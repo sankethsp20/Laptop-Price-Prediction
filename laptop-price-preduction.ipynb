{
 "cells": [
  {
   "cell_type": "code",
   "execution_count": 1,
   "id": "dd43d9ab",
   "metadata": {
    "_cell_guid": "b1076dfc-b9ad-4769-8c92-a6c4dae69d19",
    "_uuid": "8f2839f25d086af736a60e9eeb907d3b93b6e0e5",
    "execution": {
     "iopub.execute_input": "2024-04-09T07:41:19.840915Z",
     "iopub.status.busy": "2024-04-09T07:41:19.840277Z",
     "iopub.status.idle": "2024-04-09T07:41:20.856851Z",
     "shell.execute_reply": "2024-04-09T07:41:20.855242Z"
    },
    "papermill": {
     "duration": 1.054582,
     "end_time": "2024-04-09T07:41:20.859851",
     "exception": false,
     "start_time": "2024-04-09T07:41:19.805269",
     "status": "completed"
    },
    "tags": []
   },
   "outputs": [
    {
     "name": "stdout",
     "output_type": "stream",
     "text": [
      "/kaggle/input/laptop-price-prediction/laptops_train.csv\n",
      "/kaggle/input/laptop-price-prediction/laptops_test.csv\n"
     ]
    }
   ],
   "source": [
    "# This Python 3 environment comes with many helpful analytics libraries installed\n",
    "# It is defined by the kaggle/python Docker image: https://github.com/kaggle/docker-python\n",
    "# For example, here's several helpful packages to load\n",
    "\n",
    "import numpy as np # linear algebra\n",
    "import pandas as pd # data processing, CSV file I/O (e.g. pd.read_csv)\n",
    "\n",
    "# Input data files are available in the read-only \"../input/\" directory\n",
    "# For example, running this (by clicking run or pressing Shift+Enter) will list all files under the input directory\n",
    "\n",
    "import os\n",
    "for dirname, _, filenames in os.walk('/kaggle/input'):\n",
    "    for filename in filenames:\n",
    "        print(os.path.join(dirname, filename))\n",
    "\n",
    "# You can write up to 20GB to the current directory (/kaggle/working/) that gets preserved as output when you create a version using \"Save & Run All\" \n",
    "# You can also write temporary files to /kaggle/temp/, but they won't be saved outside of the current session"
   ]
  },
  {
   "cell_type": "code",
   "execution_count": 2,
   "id": "1934ead2",
   "metadata": {
    "execution": {
     "iopub.execute_input": "2024-04-09T07:41:20.930954Z",
     "iopub.status.busy": "2024-04-09T07:41:20.930393Z",
     "iopub.status.idle": "2024-04-09T07:41:22.793575Z",
     "shell.execute_reply": "2024-04-09T07:41:22.792241Z"
    },
    "papermill": {
     "duration": 1.901761,
     "end_time": "2024-04-09T07:41:22.796541",
     "exception": false,
     "start_time": "2024-04-09T07:41:20.894780",
     "status": "completed"
    },
    "tags": []
   },
   "outputs": [],
   "source": [
    "import seaborn as sns\n",
    "import matplotlib.pyplot as plt\n",
    "%matplotlib inline\n",
    "import warnings\n",
    "warnings.filterwarnings('ignore')"
   ]
  },
  {
   "cell_type": "code",
   "execution_count": 3,
   "id": "5f6e64b6",
   "metadata": {
    "execution": {
     "iopub.execute_input": "2024-04-09T07:41:22.864466Z",
     "iopub.status.busy": "2024-04-09T07:41:22.863991Z",
     "iopub.status.idle": "2024-04-09T07:41:22.929288Z",
     "shell.execute_reply": "2024-04-09T07:41:22.928140Z"
    },
    "papermill": {
     "duration": 0.103246,
     "end_time": "2024-04-09T07:41:22.932429",
     "exception": false,
     "start_time": "2024-04-09T07:41:22.829183",
     "status": "completed"
    },
    "tags": []
   },
   "outputs": [
    {
     "data": {
      "text/html": [
       "<div>\n",
       "<style scoped>\n",
       "    .dataframe tbody tr th:only-of-type {\n",
       "        vertical-align: middle;\n",
       "    }\n",
       "\n",
       "    .dataframe tbody tr th {\n",
       "        vertical-align: top;\n",
       "    }\n",
       "\n",
       "    .dataframe thead th {\n",
       "        text-align: right;\n",
       "    }\n",
       "</style>\n",
       "<table border=\"1\" class=\"dataframe\">\n",
       "  <thead>\n",
       "    <tr style=\"text-align: right;\">\n",
       "      <th></th>\n",
       "      <th>Manufacturer</th>\n",
       "      <th>Model Name</th>\n",
       "      <th>Category</th>\n",
       "      <th>Screen Size</th>\n",
       "      <th>Screen</th>\n",
       "      <th>CPU</th>\n",
       "      <th>RAM</th>\n",
       "      <th>Storage</th>\n",
       "      <th>GPU</th>\n",
       "      <th>Operating System</th>\n",
       "      <th>Operating System Version</th>\n",
       "      <th>Weight</th>\n",
       "      <th>Price</th>\n",
       "    </tr>\n",
       "  </thead>\n",
       "  <tbody>\n",
       "    <tr>\n",
       "      <th>0</th>\n",
       "      <td>Apple</td>\n",
       "      <td>MacBook Pro</td>\n",
       "      <td>Ultrabook</td>\n",
       "      <td>13.3\"</td>\n",
       "      <td>IPS Panel Retina Display 2560x1600</td>\n",
       "      <td>Intel Core i5 2.3GHz</td>\n",
       "      <td>8GB</td>\n",
       "      <td>128GB SSD</td>\n",
       "      <td>Intel Iris Plus Graphics 640</td>\n",
       "      <td>macOS</td>\n",
       "      <td>NaN</td>\n",
       "      <td>1.37kg</td>\n",
       "      <td>11912523.48</td>\n",
       "    </tr>\n",
       "    <tr>\n",
       "      <th>1</th>\n",
       "      <td>Apple</td>\n",
       "      <td>Macbook Air</td>\n",
       "      <td>Ultrabook</td>\n",
       "      <td>13.3\"</td>\n",
       "      <td>1440x900</td>\n",
       "      <td>Intel Core i5 1.8GHz</td>\n",
       "      <td>8GB</td>\n",
       "      <td>128GB Flash Storage</td>\n",
       "      <td>Intel HD Graphics 6000</td>\n",
       "      <td>macOS</td>\n",
       "      <td>NaN</td>\n",
       "      <td>1.34kg</td>\n",
       "      <td>7993374.48</td>\n",
       "    </tr>\n",
       "    <tr>\n",
       "      <th>2</th>\n",
       "      <td>HP</td>\n",
       "      <td>250 G6</td>\n",
       "      <td>Notebook</td>\n",
       "      <td>15.6\"</td>\n",
       "      <td>Full HD 1920x1080</td>\n",
       "      <td>Intel Core i5 7200U 2.5GHz</td>\n",
       "      <td>8GB</td>\n",
       "      <td>256GB SSD</td>\n",
       "      <td>Intel HD Graphics 620</td>\n",
       "      <td>No OS</td>\n",
       "      <td>NaN</td>\n",
       "      <td>1.86kg</td>\n",
       "      <td>5112900.00</td>\n",
       "    </tr>\n",
       "    <tr>\n",
       "      <th>3</th>\n",
       "      <td>Apple</td>\n",
       "      <td>MacBook Pro</td>\n",
       "      <td>Ultrabook</td>\n",
       "      <td>15.4\"</td>\n",
       "      <td>IPS Panel Retina Display 2880x1800</td>\n",
       "      <td>Intel Core i7 2.7GHz</td>\n",
       "      <td>16GB</td>\n",
       "      <td>512GB SSD</td>\n",
       "      <td>AMD Radeon Pro 455</td>\n",
       "      <td>macOS</td>\n",
       "      <td>NaN</td>\n",
       "      <td>1.83kg</td>\n",
       "      <td>22563005.40</td>\n",
       "    </tr>\n",
       "    <tr>\n",
       "      <th>4</th>\n",
       "      <td>Apple</td>\n",
       "      <td>MacBook Pro</td>\n",
       "      <td>Ultrabook</td>\n",
       "      <td>13.3\"</td>\n",
       "      <td>IPS Panel Retina Display 2560x1600</td>\n",
       "      <td>Intel Core i5 3.1GHz</td>\n",
       "      <td>8GB</td>\n",
       "      <td>256GB SSD</td>\n",
       "      <td>Intel Iris Plus Graphics 650</td>\n",
       "      <td>macOS</td>\n",
       "      <td>NaN</td>\n",
       "      <td>1.37kg</td>\n",
       "      <td>16037611.20</td>\n",
       "    </tr>\n",
       "  </tbody>\n",
       "</table>\n",
       "</div>"
      ],
      "text/plain": [
       "  Manufacturer   Model Name   Category Screen Size  \\\n",
       "0        Apple  MacBook Pro  Ultrabook       13.3\"   \n",
       "1        Apple  Macbook Air  Ultrabook       13.3\"   \n",
       "2           HP       250 G6   Notebook       15.6\"   \n",
       "3        Apple  MacBook Pro  Ultrabook       15.4\"   \n",
       "4        Apple  MacBook Pro  Ultrabook       13.3\"   \n",
       "\n",
       "                               Screen                         CPU   RAM  \\\n",
       "0  IPS Panel Retina Display 2560x1600        Intel Core i5 2.3GHz   8GB   \n",
       "1                            1440x900        Intel Core i5 1.8GHz   8GB   \n",
       "2                   Full HD 1920x1080  Intel Core i5 7200U 2.5GHz   8GB   \n",
       "3  IPS Panel Retina Display 2880x1800        Intel Core i7 2.7GHz  16GB   \n",
       "4  IPS Panel Retina Display 2560x1600        Intel Core i5 3.1GHz   8GB   \n",
       "\n",
       "               Storage                           GPU Operating System  \\\n",
       "0            128GB SSD  Intel Iris Plus Graphics 640            macOS   \n",
       "1  128GB Flash Storage        Intel HD Graphics 6000            macOS   \n",
       "2            256GB SSD         Intel HD Graphics 620            No OS   \n",
       "3            512GB SSD            AMD Radeon Pro 455            macOS   \n",
       "4            256GB SSD  Intel Iris Plus Graphics 650            macOS   \n",
       "\n",
       "  Operating System Version  Weight        Price  \n",
       "0                      NaN  1.37kg  11912523.48  \n",
       "1                      NaN  1.34kg   7993374.48  \n",
       "2                      NaN  1.86kg   5112900.00  \n",
       "3                      NaN  1.83kg  22563005.40  \n",
       "4                      NaN  1.37kg  16037611.20  "
      ]
     },
     "execution_count": 3,
     "metadata": {},
     "output_type": "execute_result"
    }
   ],
   "source": [
    "train=pd.read_csv('/kaggle/input/laptop-price-prediction/laptops_train.csv')\n",
    "test=pd.read_csv('/kaggle/input/laptop-price-prediction/laptops_test.csv')\n",
    "df=pd.concat([train.reset_index(drop=True),test.reset_index(drop=True)])\n",
    "df.head()"
   ]
  },
  {
   "cell_type": "code",
   "execution_count": 4,
   "id": "224a64d4",
   "metadata": {
    "execution": {
     "iopub.execute_input": "2024-04-09T07:41:23.000361Z",
     "iopub.status.busy": "2024-04-09T07:41:22.999785Z",
     "iopub.status.idle": "2024-04-09T07:41:23.036979Z",
     "shell.execute_reply": "2024-04-09T07:41:23.035735Z"
    },
    "papermill": {
     "duration": 0.07459,
     "end_time": "2024-04-09T07:41:23.039834",
     "exception": false,
     "start_time": "2024-04-09T07:41:22.965244",
     "status": "completed"
    },
    "tags": []
   },
   "outputs": [
    {
     "name": "stdout",
     "output_type": "stream",
     "text": [
      "<class 'pandas.core.frame.DataFrame'>\n",
      "Index: 1302 entries, 0 to 324\n",
      "Data columns (total 13 columns):\n",
      " #   Column                    Non-Null Count  Dtype  \n",
      "---  ------                    --------------  -----  \n",
      " 0   Manufacturer              1302 non-null   object \n",
      " 1   Model Name                1302 non-null   object \n",
      " 2   Category                  1302 non-null   object \n",
      " 3   Screen Size               1302 non-null   object \n",
      " 4   Screen                    1302 non-null   object \n",
      " 5   CPU                       1302 non-null   object \n",
      " 6   RAM                       1302 non-null   object \n",
      " 7    Storage                  1302 non-null   object \n",
      " 8   GPU                       1302 non-null   object \n",
      " 9   Operating System          1302 non-null   object \n",
      " 10  Operating System Version  1132 non-null   object \n",
      " 11  Weight                    1302 non-null   object \n",
      " 12  Price                     1302 non-null   float64\n",
      "dtypes: float64(1), object(12)\n",
      "memory usage: 142.4+ KB\n"
     ]
    }
   ],
   "source": [
    "df.info()"
   ]
  },
  {
   "cell_type": "code",
   "execution_count": 5,
   "id": "16126ae3",
   "metadata": {
    "execution": {
     "iopub.execute_input": "2024-04-09T07:41:23.170044Z",
     "iopub.status.busy": "2024-04-09T07:41:23.168876Z",
     "iopub.status.idle": "2024-04-09T07:41:23.184829Z",
     "shell.execute_reply": "2024-04-09T07:41:23.183725Z"
    },
    "papermill": {
     "duration": 0.114712,
     "end_time": "2024-04-09T07:41:23.187305",
     "exception": false,
     "start_time": "2024-04-09T07:41:23.072593",
     "status": "completed"
    },
    "tags": []
   },
   "outputs": [
    {
     "data": {
      "text/html": [
       "<div>\n",
       "<style scoped>\n",
       "    .dataframe tbody tr th:only-of-type {\n",
       "        vertical-align: middle;\n",
       "    }\n",
       "\n",
       "    .dataframe tbody tr th {\n",
       "        vertical-align: top;\n",
       "    }\n",
       "\n",
       "    .dataframe thead th {\n",
       "        text-align: right;\n",
       "    }\n",
       "</style>\n",
       "<table border=\"1\" class=\"dataframe\">\n",
       "  <thead>\n",
       "    <tr style=\"text-align: right;\">\n",
       "      <th></th>\n",
       "      <th>Price</th>\n",
       "    </tr>\n",
       "  </thead>\n",
       "  <tbody>\n",
       "    <tr>\n",
       "      <th>count</th>\n",
       "      <td>1.302000e+03</td>\n",
       "    </tr>\n",
       "    <tr>\n",
       "      <th>mean</th>\n",
       "      <td>9.987213e+06</td>\n",
       "    </tr>\n",
       "    <tr>\n",
       "      <th>std</th>\n",
       "      <td>6.215746e+06</td>\n",
       "    </tr>\n",
       "    <tr>\n",
       "      <th>min</th>\n",
       "      <td>1.547208e+06</td>\n",
       "    </tr>\n",
       "    <tr>\n",
       "      <th>25%</th>\n",
       "      <td>5.326308e+06</td>\n",
       "    </tr>\n",
       "    <tr>\n",
       "      <th>50%</th>\n",
       "      <td>8.687484e+06</td>\n",
       "    </tr>\n",
       "    <tr>\n",
       "      <th>75%</th>\n",
       "      <td>1.321198e+07</td>\n",
       "    </tr>\n",
       "    <tr>\n",
       "      <th>max</th>\n",
       "      <td>5.423231e+07</td>\n",
       "    </tr>\n",
       "  </tbody>\n",
       "</table>\n",
       "</div>"
      ],
      "text/plain": [
       "              Price\n",
       "count  1.302000e+03\n",
       "mean   9.987213e+06\n",
       "std    6.215746e+06\n",
       "min    1.547208e+06\n",
       "25%    5.326308e+06\n",
       "50%    8.687484e+06\n",
       "75%    1.321198e+07\n",
       "max    5.423231e+07"
      ]
     },
     "execution_count": 5,
     "metadata": {},
     "output_type": "execute_result"
    }
   ],
   "source": [
    "df.describe()"
   ]
  },
  {
   "cell_type": "markdown",
   "id": "cba115b5",
   "metadata": {
    "papermill": {
     "duration": 0.033464,
     "end_time": "2024-04-09T07:41:23.254511",
     "exception": false,
     "start_time": "2024-04-09T07:41:23.221047",
     "status": "completed"
    },
    "tags": []
   },
   "source": [
    "Remaining All columns\n"
   ]
  },
  {
   "cell_type": "code",
   "execution_count": 6,
   "id": "447934da",
   "metadata": {
    "execution": {
     "iopub.execute_input": "2024-04-09T07:41:23.322647Z",
     "iopub.status.busy": "2024-04-09T07:41:23.322259Z",
     "iopub.status.idle": "2024-04-09T07:41:23.344865Z",
     "shell.execute_reply": "2024-04-09T07:41:23.343841Z"
    },
    "papermill": {
     "duration": 0.059335,
     "end_time": "2024-04-09T07:41:23.347215",
     "exception": false,
     "start_time": "2024-04-09T07:41:23.287880",
     "status": "completed"
    },
    "tags": []
   },
   "outputs": [
    {
     "data": {
      "text/html": [
       "<div>\n",
       "<style scoped>\n",
       "    .dataframe tbody tr th:only-of-type {\n",
       "        vertical-align: middle;\n",
       "    }\n",
       "\n",
       "    .dataframe tbody tr th {\n",
       "        vertical-align: top;\n",
       "    }\n",
       "\n",
       "    .dataframe thead th {\n",
       "        text-align: right;\n",
       "    }\n",
       "</style>\n",
       "<table border=\"1\" class=\"dataframe\">\n",
       "  <thead>\n",
       "    <tr style=\"text-align: right;\">\n",
       "      <th></th>\n",
       "      <th>Manufacturer</th>\n",
       "      <th>Model_Name</th>\n",
       "      <th>Category</th>\n",
       "      <th>Screen_Size</th>\n",
       "      <th>Screen</th>\n",
       "      <th>CPU</th>\n",
       "      <th>RAM</th>\n",
       "      <th>Storage</th>\n",
       "      <th>GPU</th>\n",
       "      <th>OS</th>\n",
       "      <th>OS_version</th>\n",
       "      <th>Weight</th>\n",
       "      <th>Price</th>\n",
       "    </tr>\n",
       "  </thead>\n",
       "  <tbody>\n",
       "    <tr>\n",
       "      <th>0</th>\n",
       "      <td>Apple</td>\n",
       "      <td>MacBook Pro</td>\n",
       "      <td>Ultrabook</td>\n",
       "      <td>13.3\"</td>\n",
       "      <td>IPS Panel Retina Display 2560x1600</td>\n",
       "      <td>Intel Core i5 2.3GHz</td>\n",
       "      <td>8GB</td>\n",
       "      <td>128GB SSD</td>\n",
       "      <td>Intel Iris Plus Graphics 640</td>\n",
       "      <td>macOS</td>\n",
       "      <td>NaN</td>\n",
       "      <td>1.37kg</td>\n",
       "      <td>11912523.48</td>\n",
       "    </tr>\n",
       "    <tr>\n",
       "      <th>1</th>\n",
       "      <td>Apple</td>\n",
       "      <td>Macbook Air</td>\n",
       "      <td>Ultrabook</td>\n",
       "      <td>13.3\"</td>\n",
       "      <td>1440x900</td>\n",
       "      <td>Intel Core i5 1.8GHz</td>\n",
       "      <td>8GB</td>\n",
       "      <td>128GB Flash Storage</td>\n",
       "      <td>Intel HD Graphics 6000</td>\n",
       "      <td>macOS</td>\n",
       "      <td>NaN</td>\n",
       "      <td>1.34kg</td>\n",
       "      <td>7993374.48</td>\n",
       "    </tr>\n",
       "    <tr>\n",
       "      <th>2</th>\n",
       "      <td>HP</td>\n",
       "      <td>250 G6</td>\n",
       "      <td>Notebook</td>\n",
       "      <td>15.6\"</td>\n",
       "      <td>Full HD 1920x1080</td>\n",
       "      <td>Intel Core i5 7200U 2.5GHz</td>\n",
       "      <td>8GB</td>\n",
       "      <td>256GB SSD</td>\n",
       "      <td>Intel HD Graphics 620</td>\n",
       "      <td>No OS</td>\n",
       "      <td>NaN</td>\n",
       "      <td>1.86kg</td>\n",
       "      <td>5112900.00</td>\n",
       "    </tr>\n",
       "    <tr>\n",
       "      <th>3</th>\n",
       "      <td>Apple</td>\n",
       "      <td>MacBook Pro</td>\n",
       "      <td>Ultrabook</td>\n",
       "      <td>15.4\"</td>\n",
       "      <td>IPS Panel Retina Display 2880x1800</td>\n",
       "      <td>Intel Core i7 2.7GHz</td>\n",
       "      <td>16GB</td>\n",
       "      <td>512GB SSD</td>\n",
       "      <td>AMD Radeon Pro 455</td>\n",
       "      <td>macOS</td>\n",
       "      <td>NaN</td>\n",
       "      <td>1.83kg</td>\n",
       "      <td>22563005.40</td>\n",
       "    </tr>\n",
       "    <tr>\n",
       "      <th>4</th>\n",
       "      <td>Apple</td>\n",
       "      <td>MacBook Pro</td>\n",
       "      <td>Ultrabook</td>\n",
       "      <td>13.3\"</td>\n",
       "      <td>IPS Panel Retina Display 2560x1600</td>\n",
       "      <td>Intel Core i5 3.1GHz</td>\n",
       "      <td>8GB</td>\n",
       "      <td>256GB SSD</td>\n",
       "      <td>Intel Iris Plus Graphics 650</td>\n",
       "      <td>macOS</td>\n",
       "      <td>NaN</td>\n",
       "      <td>1.37kg</td>\n",
       "      <td>16037611.20</td>\n",
       "    </tr>\n",
       "  </tbody>\n",
       "</table>\n",
       "</div>"
      ],
      "text/plain": [
       "  Manufacturer   Model_Name   Category Screen_Size  \\\n",
       "0        Apple  MacBook Pro  Ultrabook       13.3\"   \n",
       "1        Apple  Macbook Air  Ultrabook       13.3\"   \n",
       "2           HP       250 G6   Notebook       15.6\"   \n",
       "3        Apple  MacBook Pro  Ultrabook       15.4\"   \n",
       "4        Apple  MacBook Pro  Ultrabook       13.3\"   \n",
       "\n",
       "                               Screen                         CPU   RAM  \\\n",
       "0  IPS Panel Retina Display 2560x1600        Intel Core i5 2.3GHz   8GB   \n",
       "1                            1440x900        Intel Core i5 1.8GHz   8GB   \n",
       "2                   Full HD 1920x1080  Intel Core i5 7200U 2.5GHz   8GB   \n",
       "3  IPS Panel Retina Display 2880x1800        Intel Core i7 2.7GHz  16GB   \n",
       "4  IPS Panel Retina Display 2560x1600        Intel Core i5 3.1GHz   8GB   \n",
       "\n",
       "               Storage                           GPU     OS OS_version  \\\n",
       "0            128GB SSD  Intel Iris Plus Graphics 640  macOS        NaN   \n",
       "1  128GB Flash Storage        Intel HD Graphics 6000  macOS        NaN   \n",
       "2            256GB SSD         Intel HD Graphics 620  No OS        NaN   \n",
       "3            512GB SSD            AMD Radeon Pro 455  macOS        NaN   \n",
       "4            256GB SSD  Intel Iris Plus Graphics 650  macOS        NaN   \n",
       "\n",
       "   Weight        Price  \n",
       "0  1.37kg  11912523.48  \n",
       "1  1.34kg   7993374.48  \n",
       "2  1.86kg   5112900.00  \n",
       "3  1.83kg  22563005.40  \n",
       "4  1.37kg  16037611.20  "
      ]
     },
     "execution_count": 6,
     "metadata": {},
     "output_type": "execute_result"
    }
   ],
   "source": [
    "df.rename(columns={\"Model Name\":\"Model_Name\",\"Screen Size\":\"Screen_Size\",\"Operating System\":\"OS\",\"Operating System Version\":\"OS_version\"},inplace=True)\n",
    "df.head()"
   ]
  },
  {
   "cell_type": "code",
   "execution_count": 7,
   "id": "8e6e1da9",
   "metadata": {
    "execution": {
     "iopub.execute_input": "2024-04-09T07:41:23.417299Z",
     "iopub.status.busy": "2024-04-09T07:41:23.416453Z",
     "iopub.status.idle": "2024-04-09T07:41:23.428510Z",
     "shell.execute_reply": "2024-04-09T07:41:23.427265Z"
    },
    "papermill": {
     "duration": 0.04958,
     "end_time": "2024-04-09T07:41:23.431053",
     "exception": false,
     "start_time": "2024-04-09T07:41:23.381473",
     "status": "completed"
    },
    "tags": []
   },
   "outputs": [
    {
     "data": {
      "text/plain": [
       "Manufacturer      0\n",
       "Model_Name        0\n",
       "Category          0\n",
       "Screen_Size       0\n",
       "Screen            0\n",
       "CPU               0\n",
       "RAM               0\n",
       " Storage          0\n",
       "GPU               0\n",
       "OS                0\n",
       "OS_version      170\n",
       "Weight            0\n",
       "Price             0\n",
       "dtype: int64"
      ]
     },
     "execution_count": 7,
     "metadata": {},
     "output_type": "execute_result"
    }
   ],
   "source": [
    "df.isnull().sum()"
   ]
  },
  {
   "cell_type": "code",
   "execution_count": 8,
   "id": "2203ab5e",
   "metadata": {
    "execution": {
     "iopub.execute_input": "2024-04-09T07:41:23.501219Z",
     "iopub.status.busy": "2024-04-09T07:41:23.500741Z",
     "iopub.status.idle": "2024-04-09T07:41:23.511598Z",
     "shell.execute_reply": "2024-04-09T07:41:23.510164Z"
    },
    "papermill": {
     "duration": 0.048748,
     "end_time": "2024-04-09T07:41:23.514204",
     "exception": false,
     "start_time": "2024-04-09T07:41:23.465456",
     "status": "completed"
    },
    "tags": []
   },
   "outputs": [
    {
     "data": {
      "text/plain": [
       "OS_version\n",
       "10      1071\n",
       "7         45\n",
       "X          8\n",
       "10 S       8\n",
       "Name: count, dtype: int64"
      ]
     },
     "execution_count": 8,
     "metadata": {},
     "output_type": "execute_result"
    }
   ],
   "source": [
    "df['OS_version'].value_counts()"
   ]
  },
  {
   "cell_type": "code",
   "execution_count": 9,
   "id": "73d07c89",
   "metadata": {
    "execution": {
     "iopub.execute_input": "2024-04-09T07:41:23.583770Z",
     "iopub.status.busy": "2024-04-09T07:41:23.583357Z",
     "iopub.status.idle": "2024-04-09T07:41:23.591937Z",
     "shell.execute_reply": "2024-04-09T07:41:23.590331Z"
    },
    "papermill": {
     "duration": 0.046586,
     "end_time": "2024-04-09T07:41:23.594676",
     "exception": false,
     "start_time": "2024-04-09T07:41:23.548090",
     "status": "completed"
    },
    "tags": []
   },
   "outputs": [],
   "source": [
    "df['OS_version']=df['OS_version'].fillna(df['OS_version'].mode()[0])"
   ]
  },
  {
   "cell_type": "code",
   "execution_count": 10,
   "id": "9cae0994",
   "metadata": {
    "execution": {
     "iopub.execute_input": "2024-04-09T07:41:23.665985Z",
     "iopub.status.busy": "2024-04-09T07:41:23.665543Z",
     "iopub.status.idle": "2024-04-09T07:41:23.677231Z",
     "shell.execute_reply": "2024-04-09T07:41:23.676244Z"
    },
    "papermill": {
     "duration": 0.049929,
     "end_time": "2024-04-09T07:41:23.679436",
     "exception": false,
     "start_time": "2024-04-09T07:41:23.629507",
     "status": "completed"
    },
    "tags": []
   },
   "outputs": [
    {
     "data": {
      "text/plain": [
       "Manufacturer    0\n",
       "Model_Name      0\n",
       "Category        0\n",
       "Screen_Size     0\n",
       "Screen          0\n",
       "CPU             0\n",
       "RAM             0\n",
       " Storage        0\n",
       "GPU             0\n",
       "OS              0\n",
       "OS_version      0\n",
       "Weight          0\n",
       "Price           0\n",
       "dtype: int64"
      ]
     },
     "execution_count": 10,
     "metadata": {},
     "output_type": "execute_result"
    }
   ],
   "source": [
    "df.isnull().sum()"
   ]
  },
  {
   "cell_type": "code",
   "execution_count": 11,
   "id": "8c97a40d",
   "metadata": {
    "execution": {
     "iopub.execute_input": "2024-04-09T07:41:23.750679Z",
     "iopub.status.busy": "2024-04-09T07:41:23.750242Z",
     "iopub.status.idle": "2024-04-09T07:41:23.794168Z",
     "shell.execute_reply": "2024-04-09T07:41:23.792820Z"
    },
    "papermill": {
     "duration": 0.082967,
     "end_time": "2024-04-09T07:41:23.797686",
     "exception": false,
     "start_time": "2024-04-09T07:41:23.714719",
     "status": "completed"
    },
    "tags": []
   },
   "outputs": [
    {
     "name": "stdout",
     "output_type": "stream",
     "text": [
      "    Manufacturer\n",
      "0          Apple\n",
      "1          Apple\n",
      "2             HP\n",
      "3          Apple\n",
      "4          Apple\n",
      "..           ...\n",
      "320       Lenovo\n",
      "321       Lenovo\n",
      "322       Lenovo\n",
      "323           HP\n",
      "324         Asus\n",
      "\n",
      "[1302 rows x 1 columns]\n",
      "                              Model_Name\n",
      "0                            MacBook Pro\n",
      "1                            Macbook Air\n",
      "2                                 250 G6\n",
      "3                            MacBook Pro\n",
      "4                            MacBook Pro\n",
      "..                                   ...\n",
      "320                       Yoga 500-14ISK\n",
      "321                       Yoga 900-13ISK\n",
      "322                   IdeaPad 100S-14IBR\n",
      "323  15-AC110nv (i7-6500U/6GB/1TB/Radeon\n",
      "324  X553SA-XX031T (N3050/4GB/500GB/W10)\n",
      "\n",
      "[1302 rows x 1 columns]\n",
      "               Category\n",
      "0             Ultrabook\n",
      "1             Ultrabook\n",
      "2              Notebook\n",
      "3             Ultrabook\n",
      "4             Ultrabook\n",
      "..                  ...\n",
      "320  2 in 1 Convertible\n",
      "321  2 in 1 Convertible\n",
      "322            Notebook\n",
      "323            Notebook\n",
      "324            Notebook\n",
      "\n",
      "[1302 rows x 1 columns]\n",
      "    Screen_Size\n",
      "0         13.3\"\n",
      "1         13.3\"\n",
      "2         15.6\"\n",
      "3         15.4\"\n",
      "4         13.3\"\n",
      "..          ...\n",
      "320       14.0\"\n",
      "321       13.3\"\n",
      "322       14.0\"\n",
      "323       15.6\"\n",
      "324       15.6\"\n",
      "\n",
      "[1302 rows x 1 columns]\n",
      "                                         Screen\n",
      "0            IPS Panel Retina Display 2560x1600\n",
      "1                                      1440x900\n",
      "2                             Full HD 1920x1080\n",
      "3            IPS Panel Retina Display 2880x1800\n",
      "4            IPS Panel Retina Display 2560x1600\n",
      "..                                          ...\n",
      "320   IPS Panel Full HD / Touchscreen 1920x1080\n",
      "321  IPS Panel Quad HD+ / Touchscreen 3200x1800\n",
      "322                                    1366x768\n",
      "323                                    1366x768\n",
      "324                                    1366x768\n",
      "\n",
      "[1302 rows x 1 columns]\n",
      "                                      CPU\n",
      "0                    Intel Core i5 2.3GHz\n",
      "1                    Intel Core i5 1.8GHz\n",
      "2              Intel Core i5 7200U 2.5GHz\n",
      "3                    Intel Core i7 2.7GHz\n",
      "4                    Intel Core i5 3.1GHz\n",
      "..                                    ...\n",
      "320            Intel Core i7 6500U 2.5GHz\n",
      "321            Intel Core i7 6500U 2.5GHz\n",
      "322  Intel Celeron Dual Core N3050 1.6GHz\n",
      "323            Intel Core i7 6500U 2.5GHz\n",
      "324  Intel Celeron Dual Core N3050 1.6GHz\n",
      "\n",
      "[1302 rows x 1 columns]\n",
      "      RAM\n",
      "0     8GB\n",
      "1     8GB\n",
      "2     8GB\n",
      "3    16GB\n",
      "4     8GB\n",
      "..    ...\n",
      "320   4GB\n",
      "321  16GB\n",
      "322   2GB\n",
      "323   6GB\n",
      "324   4GB\n",
      "\n",
      "[1302 rows x 1 columns]\n",
      "                 Storage\n",
      "0              128GB SSD\n",
      "1    128GB Flash Storage\n",
      "2              256GB SSD\n",
      "3              512GB SSD\n",
      "4              256GB SSD\n",
      "..                   ...\n",
      "320            128GB SSD\n",
      "321            512GB SSD\n",
      "322   64GB Flash Storage\n",
      "323              1TB HDD\n",
      "324            500GB HDD\n",
      "\n",
      "[1302 rows x 1 columns]\n",
      "                              GPU\n",
      "0    Intel Iris Plus Graphics 640\n",
      "1          Intel HD Graphics 6000\n",
      "2           Intel HD Graphics 620\n",
      "3              AMD Radeon Pro 455\n",
      "4    Intel Iris Plus Graphics 650\n",
      "..                            ...\n",
      "320         Intel HD Graphics 520\n",
      "321         Intel HD Graphics 520\n",
      "322             Intel HD Graphics\n",
      "323            AMD Radeon R5 M330\n",
      "324             Intel HD Graphics\n",
      "\n",
      "[1302 rows x 1 columns]\n",
      "          OS\n",
      "0      macOS\n",
      "1      macOS\n",
      "2      No OS\n",
      "3      macOS\n",
      "4      macOS\n",
      "..       ...\n",
      "320  Windows\n",
      "321  Windows\n",
      "322  Windows\n",
      "323  Windows\n",
      "324  Windows\n",
      "\n",
      "[1302 rows x 1 columns]\n",
      "    OS_version\n",
      "0           10\n",
      "1           10\n",
      "2           10\n",
      "3           10\n",
      "4           10\n",
      "..         ...\n",
      "320         10\n",
      "321         10\n",
      "322         10\n",
      "323         10\n",
      "324         10\n",
      "\n",
      "[1302 rows x 1 columns]\n",
      "     Weight\n",
      "0    1.37kg\n",
      "1    1.34kg\n",
      "2    1.86kg\n",
      "3    1.83kg\n",
      "4    1.37kg\n",
      "..      ...\n",
      "320   1.8kg\n",
      "321   1.3kg\n",
      "322   1.5kg\n",
      "323  2.19kg\n",
      "324   2.2kg\n",
      "\n",
      "[1302 rows x 1 columns]\n",
      "           Price\n",
      "0    11912523.48\n",
      "1     7993374.48\n",
      "2     5112900.00\n",
      "3    22563005.40\n",
      "4    16037611.20\n",
      "..           ...\n",
      "320   5673096.00\n",
      "321  13329108.00\n",
      "322   2036268.00\n",
      "323   6793488.00\n",
      "324   3281148.00\n",
      "\n",
      "[1302 rows x 1 columns]\n"
     ]
    }
   ],
   "source": [
    "for i in df.columns:\n",
    "    print(df[[i]])"
   ]
  },
  {
   "cell_type": "code",
   "execution_count": 12,
   "id": "a04b4a0a",
   "metadata": {
    "execution": {
     "iopub.execute_input": "2024-04-09T07:41:23.869245Z",
     "iopub.status.busy": "2024-04-09T07:41:23.868812Z",
     "iopub.status.idle": "2024-04-09T07:41:23.879315Z",
     "shell.execute_reply": "2024-04-09T07:41:23.878070Z"
    },
    "papermill": {
     "duration": 0.048714,
     "end_time": "2024-04-09T07:41:23.881582",
     "exception": false,
     "start_time": "2024-04-09T07:41:23.832868",
     "status": "completed"
    },
    "tags": []
   },
   "outputs": [
    {
     "data": {
      "text/plain": [
       "OS_version\n",
       "10      1241\n",
       "7         45\n",
       "X          8\n",
       "10 S       8\n",
       "Name: count, dtype: int64"
      ]
     },
     "execution_count": 12,
     "metadata": {},
     "output_type": "execute_result"
    }
   ],
   "source": [
    "df['OS_version'].value_counts()"
   ]
  },
  {
   "cell_type": "code",
   "execution_count": 13,
   "id": "d8828f36",
   "metadata": {
    "execution": {
     "iopub.execute_input": "2024-04-09T07:41:23.952164Z",
     "iopub.status.busy": "2024-04-09T07:41:23.951764Z",
     "iopub.status.idle": "2024-04-09T07:41:23.956960Z",
     "shell.execute_reply": "2024-04-09T07:41:23.955891Z"
    },
    "papermill": {
     "duration": 0.043404,
     "end_time": "2024-04-09T07:41:23.959399",
     "exception": false,
     "start_time": "2024-04-09T07:41:23.915995",
     "status": "completed"
    },
    "tags": []
   },
   "outputs": [],
   "source": [
    "def order(x,num):\n",
    "    return df[x].value_counts().head(num).index"
   ]
  },
  {
   "cell_type": "code",
   "execution_count": 14,
   "id": "1da6e9ff",
   "metadata": {
    "execution": {
     "iopub.execute_input": "2024-04-09T07:41:24.030606Z",
     "iopub.status.busy": "2024-04-09T07:41:24.030193Z",
     "iopub.status.idle": "2024-04-09T07:41:24.449532Z",
     "shell.execute_reply": "2024-04-09T07:41:24.448396Z"
    },
    "papermill": {
     "duration": 0.458162,
     "end_time": "2024-04-09T07:41:24.452168",
     "exception": false,
     "start_time": "2024-04-09T07:41:23.994006",
     "status": "completed"
    },
    "tags": []
   },
   "outputs": [
    {
     "data": {
      "image/png": "[encoded data removed]",
      "text/plain": [
       "<Figure size 640x480 with 1 Axes>"
      ]
     },
     "metadata": {},
     "output_type": "display_data"
    }
   ],
   "source": [
    "plt.title('popular Manufacturer of laptops')\n",
    "sns.countplot(y=df['Manufacturer'],order=order('Manufacturer',15))\n",
    "plt.show()"
   ]
  },
  {
   "cell_type": "code",
   "execution_count": 15,
   "id": "151ce832",
   "metadata": {
    "execution": {
     "iopub.execute_input": "2024-04-09T07:41:24.523702Z",
     "iopub.status.busy": "2024-04-09T07:41:24.523058Z",
     "iopub.status.idle": "2024-04-09T07:41:24.732145Z",
     "shell.execute_reply": "2024-04-09T07:41:24.730781Z"
    },
    "papermill": {
     "duration": 0.248297,
     "end_time": "2024-04-09T07:41:24.735209",
     "exception": false,
     "start_time": "2024-04-09T07:41:24.486912",
     "status": "completed"
    },
    "tags": []
   },
   "outputs": [],
   "source": [
    "from sklearn.preprocessing import LabelEncoder\n",
    "lr=LabelEncoder()\n",
    "df['Manufacturer']=lr.fit_transform(df['Manufacturer'])"
   ]
  },
  {
   "cell_type": "code",
   "execution_count": 16,
   "id": "dcb4a882",
   "metadata": {
    "execution": {
     "iopub.execute_input": "2024-04-09T07:41:24.808630Z",
     "iopub.status.busy": "2024-04-09T07:41:24.807979Z",
     "iopub.status.idle": "2024-04-09T07:41:24.814099Z",
     "shell.execute_reply": "2024-04-09T07:41:24.812976Z"
    },
    "papermill": {
     "duration": 0.045126,
     "end_time": "2024-04-09T07:41:24.816379",
     "exception": false,
     "start_time": "2024-04-09T07:41:24.771253",
     "status": "completed"
    },
    "tags": []
   },
   "outputs": [
    {
     "name": "stdout",
     "output_type": "stream",
     "text": [
      "['Acer' 'Apple' 'Asus' 'Chuwi' 'Dell' 'Fujitsu' 'Google' 'HP' 'Huawei'\n",
      " 'LG' 'Lenovo' 'MSI' 'Mediacom' 'Microsoft' 'Razer' 'Samsung' 'Toshiba'\n",
      " 'Vero' 'Xiaomi']\n"
     ]
    }
   ],
   "source": [
    "print(lr.classes_)"
   ]
  },
  {
   "cell_type": "code",
   "execution_count": 17,
   "id": "6f49a6ad",
   "metadata": {
    "execution": {
     "iopub.execute_input": "2024-04-09T07:41:24.888423Z",
     "iopub.status.busy": "2024-04-09T07:41:24.887725Z",
     "iopub.status.idle": "2024-04-09T07:41:24.902469Z",
     "shell.execute_reply": "2024-04-09T07:41:24.901096Z"
    },
    "papermill": {
     "duration": 0.053861,
     "end_time": "2024-04-09T07:41:24.905130",
     "exception": false,
     "start_time": "2024-04-09T07:41:24.851269",
     "status": "completed"
    },
    "tags": []
   },
   "outputs": [
    {
     "name": "stdout",
     "output_type": "stream",
     "text": [
      "<class 'pandas.core.frame.DataFrame'>\n",
      "Index: 1302 entries, 0 to 324\n",
      "Data columns (total 13 columns):\n",
      " #   Column        Non-Null Count  Dtype  \n",
      "---  ------        --------------  -----  \n",
      " 0   Manufacturer  1302 non-null   int64  \n",
      " 1   Model_Name    1302 non-null   object \n",
      " 2   Category      1302 non-null   object \n",
      " 3   Screen_Size   1302 non-null   object \n",
      " 4   Screen        1302 non-null   object \n",
      " 5   CPU           1302 non-null   object \n",
      " 6   RAM           1302 non-null   object \n",
      " 7    Storage      1302 non-null   object \n",
      " 8   GPU           1302 non-null   object \n",
      " 9   OS            1302 non-null   object \n",
      " 10  OS_version    1302 non-null   object \n",
      " 11  Weight        1302 non-null   object \n",
      " 12  Price         1302 non-null   float64\n",
      "dtypes: float64(1), int64(1), object(11)\n",
      "memory usage: 142.4+ KB\n"
     ]
    }
   ],
   "source": [
    "df.info()"
   ]
  },
  {
   "cell_type": "code",
   "execution_count": 18,
   "id": "fb57de9a",
   "metadata": {
    "execution": {
     "iopub.execute_input": "2024-04-09T07:41:24.977157Z",
     "iopub.status.busy": "2024-04-09T07:41:24.976736Z",
     "iopub.status.idle": "2024-04-09T07:41:24.985726Z",
     "shell.execute_reply": "2024-04-09T07:41:24.984477Z"
    },
    "papermill": {
     "duration": 0.048349,
     "end_time": "2024-04-09T07:41:24.988371",
     "exception": false,
     "start_time": "2024-04-09T07:41:24.940022",
     "status": "completed"
    },
    "tags": []
   },
   "outputs": [
    {
     "data": {
      "text/plain": [
       "617"
      ]
     },
     "execution_count": 18,
     "metadata": {},
     "output_type": "execute_result"
    }
   ],
   "source": [
    "df['Model_Name'].nunique()"
   ]
  },
  {
   "cell_type": "code",
   "execution_count": 19,
   "id": "015ed3f1",
   "metadata": {
    "execution": {
     "iopub.execute_input": "2024-04-09T07:41:25.062899Z",
     "iopub.status.busy": "2024-04-09T07:41:25.062407Z",
     "iopub.status.idle": "2024-04-09T07:41:25.074111Z",
     "shell.execute_reply": "2024-04-09T07:41:25.072901Z"
    },
    "papermill": {
     "duration": 0.050915,
     "end_time": "2024-04-09T07:41:25.076784",
     "exception": false,
     "start_time": "2024-04-09T07:41:25.025869",
     "status": "completed"
    },
    "tags": []
   },
   "outputs": [
    {
     "data": {
      "text/plain": [
       "Model_Name\n",
       "XPS 13                                  30\n",
       "Inspiron 3567                           29\n",
       "250 G6                                  21\n",
       "Legion Y520-15IKBN                      19\n",
       "Vostro 3568                             19\n",
       "                                        ..\n",
       "SmartBook 130                            1\n",
       "A541NA-GO342 (N3350/4GB/500GB/Linux)     1\n",
       "17-X047na (i3-6006U/8GB/1TB/W10)         1\n",
       "V310-15ISK (i5-6200U/4GB/1TB/FHD/No      1\n",
       "15-cd005nv (A9-9420/6GB/256GB/Radeon     1\n",
       "Name: count, Length: 617, dtype: int64"
      ]
     },
     "execution_count": 19,
     "metadata": {},
     "output_type": "execute_result"
    }
   ],
   "source": [
    "df['Model_Name'].value_counts()"
   ]
  },
  {
   "cell_type": "code",
   "execution_count": 20,
   "id": "a7b0e61f",
   "metadata": {
    "execution": {
     "iopub.execute_input": "2024-04-09T07:41:25.152274Z",
     "iopub.status.busy": "2024-04-09T07:41:25.151853Z",
     "iopub.status.idle": "2024-04-09T07:41:25.158427Z",
     "shell.execute_reply": "2024-04-09T07:41:25.157254Z"
    },
    "papermill": {
     "duration": 0.046038,
     "end_time": "2024-04-09T07:41:25.160657",
     "exception": false,
     "start_time": "2024-04-09T07:41:25.114619",
     "status": "completed"
    },
    "tags": []
   },
   "outputs": [],
   "source": [
    "df.drop('Model_Name',axis=1,inplace=True)"
   ]
  },
  {
   "cell_type": "code",
   "execution_count": 21,
   "id": "d16428a8",
   "metadata": {
    "execution": {
     "iopub.execute_input": "2024-04-09T07:41:25.233689Z",
     "iopub.status.busy": "2024-04-09T07:41:25.233229Z",
     "iopub.status.idle": "2024-04-09T07:41:25.247550Z",
     "shell.execute_reply": "2024-04-09T07:41:25.245833Z"
    },
    "papermill": {
     "duration": 0.054044,
     "end_time": "2024-04-09T07:41:25.250024",
     "exception": false,
     "start_time": "2024-04-09T07:41:25.195980",
     "status": "completed"
    },
    "tags": []
   },
   "outputs": [
    {
     "name": "stdout",
     "output_type": "stream",
     "text": [
      "<class 'pandas.core.frame.DataFrame'>\n",
      "Index: 1302 entries, 0 to 324\n",
      "Data columns (total 12 columns):\n",
      " #   Column        Non-Null Count  Dtype  \n",
      "---  ------        --------------  -----  \n",
      " 0   Manufacturer  1302 non-null   int64  \n",
      " 1   Category      1302 non-null   object \n",
      " 2   Screen_Size   1302 non-null   object \n",
      " 3   Screen        1302 non-null   object \n",
      " 4   CPU           1302 non-null   object \n",
      " 5   RAM           1302 non-null   object \n",
      " 6    Storage      1302 non-null   object \n",
      " 7   GPU           1302 non-null   object \n",
      " 8   OS            1302 non-null   object \n",
      " 9   OS_version    1302 non-null   object \n",
      " 10  Weight        1302 non-null   object \n",
      " 11  Price         1302 non-null   float64\n",
      "dtypes: float64(1), int64(1), object(10)\n",
      "memory usage: 132.2+ KB\n"
     ]
    }
   ],
   "source": [
    "df.info()"
   ]
  },
  {
   "cell_type": "code",
   "execution_count": 22,
   "id": "19e9e0c2",
   "metadata": {
    "execution": {
     "iopub.execute_input": "2024-04-09T07:41:25.326808Z",
     "iopub.status.busy": "2024-04-09T07:41:25.324724Z",
     "iopub.status.idle": "2024-04-09T07:41:25.334049Z",
     "shell.execute_reply": "2024-04-09T07:41:25.332768Z"
    },
    "papermill": {
     "duration": 0.04993,
     "end_time": "2024-04-09T07:41:25.336492",
     "exception": false,
     "start_time": "2024-04-09T07:41:25.286562",
     "status": "completed"
    },
    "tags": []
   },
   "outputs": [
    {
     "data": {
      "text/plain": [
       "6"
      ]
     },
     "execution_count": 22,
     "metadata": {},
     "output_type": "execute_result"
    }
   ],
   "source": [
    "df['Category'].nunique()"
   ]
  },
  {
   "cell_type": "code",
   "execution_count": 23,
   "id": "e8de0ae2",
   "metadata": {
    "execution": {
     "iopub.execute_input": "2024-04-09T07:41:25.413358Z",
     "iopub.status.busy": "2024-04-09T07:41:25.411780Z",
     "iopub.status.idle": "2024-04-09T07:41:25.698171Z",
     "shell.execute_reply": "2024-04-09T07:41:25.696956Z"
    },
    "papermill": {
     "duration": 0.326997,
     "end_time": "2024-04-09T07:41:25.700667",
     "exception": false,
     "start_time": "2024-04-09T07:41:25.373670",
     "status": "completed"
    },
    "tags": []
   },
   "outputs": [
    {
     "data": {
      "image/png": "[encoded data removed]",
      "text/plain": [
       "<Figure size 640x480 with 1 Axes>"
      ]
     },
     "metadata": {},
     "output_type": "display_data"
    }
   ],
   "source": [
    "plt.title('popular Category of laptops')\n",
    "sns.countplot(y=df['Category'],order=order('Category',15))\n",
    "plt.show()"
   ]
  },
  {
   "cell_type": "code",
   "execution_count": 24,
   "id": "c8cac635",
   "metadata": {
    "execution": {
     "iopub.execute_input": "2024-04-09T07:41:25.777268Z",
     "iopub.status.busy": "2024-04-09T07:41:25.776486Z",
     "iopub.status.idle": "2024-04-09T07:41:25.787432Z",
     "shell.execute_reply": "2024-04-09T07:41:25.786104Z"
    },
    "papermill": {
     "duration": 0.052033,
     "end_time": "2024-04-09T07:41:25.790349",
     "exception": false,
     "start_time": "2024-04-09T07:41:25.738316",
     "status": "completed"
    },
    "tags": []
   },
   "outputs": [
    {
     "data": {
      "text/plain": [
       "Category\n",
       "Notebook              727\n",
       "Gaming                205\n",
       "Ultrabook             196\n",
       "2 in 1 Convertible    120\n",
       "Workstation            29\n",
       "Netbook                25\n",
       "Name: count, dtype: int64"
      ]
     },
     "execution_count": 24,
     "metadata": {},
     "output_type": "execute_result"
    }
   ],
   "source": [
    "df['Category'].value_counts()"
   ]
  },
  {
   "cell_type": "code",
   "execution_count": 25,
   "id": "ce42e93f",
   "metadata": {
    "execution": {
     "iopub.execute_input": "2024-04-09T07:41:25.866373Z",
     "iopub.status.busy": "2024-04-09T07:41:25.865979Z",
     "iopub.status.idle": "2024-04-09T07:41:25.873221Z",
     "shell.execute_reply": "2024-04-09T07:41:25.871856Z"
    },
    "papermill": {
     "duration": 0.047252,
     "end_time": "2024-04-09T07:41:25.875613",
     "exception": false,
     "start_time": "2024-04-09T07:41:25.828361",
     "status": "completed"
    },
    "tags": []
   },
   "outputs": [],
   "source": [
    "df['Category'].replace({'Notebook':'Notebook'},inplace=True)"
   ]
  },
  {
   "cell_type": "code",
   "execution_count": 26,
   "id": "26ceec1a",
   "metadata": {
    "execution": {
     "iopub.execute_input": "2024-04-09T07:41:25.954196Z",
     "iopub.status.busy": "2024-04-09T07:41:25.953755Z",
     "iopub.status.idle": "2024-04-09T07:41:25.960998Z",
     "shell.execute_reply": "2024-04-09T07:41:25.960071Z"
    },
    "papermill": {
     "duration": 0.048833,
     "end_time": "2024-04-09T07:41:25.963129",
     "exception": false,
     "start_time": "2024-04-09T07:41:25.914296",
     "status": "completed"
    },
    "tags": []
   },
   "outputs": [
    {
     "data": {
      "text/plain": [
       "array(['Ultrabook', 'Notebook', 'Netbook', 'Gaming', '2 in 1 Convertible',\n",
       "       'Workstation'], dtype=object)"
      ]
     },
     "execution_count": 26,
     "metadata": {},
     "output_type": "execute_result"
    }
   ],
   "source": [
    "df['Category'].unique()"
   ]
  },
  {
   "cell_type": "code",
   "execution_count": 27,
   "id": "4f8923aa",
   "metadata": {
    "execution": {
     "iopub.execute_input": "2024-04-09T07:41:26.040672Z",
     "iopub.status.busy": "2024-04-09T07:41:26.039892Z",
     "iopub.status.idle": "2024-04-09T07:41:26.046206Z",
     "shell.execute_reply": "2024-04-09T07:41:26.045176Z"
    },
    "papermill": {
     "duration": 0.04814,
     "end_time": "2024-04-09T07:41:26.048758",
     "exception": false,
     "start_time": "2024-04-09T07:41:26.000618",
     "status": "completed"
    },
    "tags": []
   },
   "outputs": [],
   "source": [
    "from sklearn.preprocessing import LabelEncoder\n",
    "lr=LabelEncoder()\n",
    "df['Category']=lr.fit_transform(df['Category'])"
   ]
  },
  {
   "cell_type": "code",
   "execution_count": 28,
   "id": "9b0b82dc",
   "metadata": {
    "execution": {
     "iopub.execute_input": "2024-04-09T07:41:26.124038Z",
     "iopub.status.busy": "2024-04-09T07:41:26.123569Z",
     "iopub.status.idle": "2024-04-09T07:41:26.128913Z",
     "shell.execute_reply": "2024-04-09T07:41:26.128105Z"
    },
    "papermill": {
     "duration": 0.045578,
     "end_time": "2024-04-09T07:41:26.131242",
     "exception": false,
     "start_time": "2024-04-09T07:41:26.085664",
     "status": "completed"
    },
    "tags": []
   },
   "outputs": [
    {
     "name": "stdout",
     "output_type": "stream",
     "text": [
      "['2 in 1 Convertible' 'Gaming' 'Netbook' 'Notebook' 'Ultrabook'\n",
      " 'Workstation']\n"
     ]
    }
   ],
   "source": [
    "print(lr.classes_)"
   ]
  },
  {
   "cell_type": "code",
   "execution_count": 29,
   "id": "e059725f",
   "metadata": {
    "execution": {
     "iopub.execute_input": "2024-04-09T07:41:26.210746Z",
     "iopub.status.busy": "2024-04-09T07:41:26.209459Z",
     "iopub.status.idle": "2024-04-09T07:41:26.216787Z",
     "shell.execute_reply": "2024-04-09T07:41:26.215908Z"
    },
    "papermill": {
     "duration": 0.048789,
     "end_time": "2024-04-09T07:41:26.219047",
     "exception": false,
     "start_time": "2024-04-09T07:41:26.170258",
     "status": "completed"
    },
    "tags": []
   },
   "outputs": [
    {
     "data": {
      "text/plain": [
       "array(['13.3\"', '15.6\"', '15.4\"', '14.0\"', '12.0\"', '11.6\"', '17.3\"',\n",
       "       '10.1\"', '13.5\"', '12.5\"', '13.0\"', '18.4\"', '13.9\"', '12.3\"',\n",
       "       '17.0\"', '15.0\"', '14.1\"', '11.3\"'], dtype=object)"
      ]
     },
     "execution_count": 29,
     "metadata": {},
     "output_type": "execute_result"
    }
   ],
   "source": [
    "df['Screen_Size'].unique()"
   ]
  },
  {
   "cell_type": "code",
   "execution_count": 30,
   "id": "df56d503",
   "metadata": {
    "execution": {
     "iopub.execute_input": "2024-04-09T07:41:26.296080Z",
     "iopub.status.busy": "2024-04-09T07:41:26.294915Z",
     "iopub.status.idle": "2024-04-09T07:41:26.303958Z",
     "shell.execute_reply": "2024-04-09T07:41:26.302815Z"
    },
    "papermill": {
     "duration": 0.050125,
     "end_time": "2024-04-09T07:41:26.307030",
     "exception": false,
     "start_time": "2024-04-09T07:41:26.256905",
     "status": "completed"
    },
    "tags": []
   },
   "outputs": [],
   "source": [
    "df['Screen_Size']=df['Screen_Size'].str.replace('\"','').astype(\"float\")\n"
   ]
  },
  {
   "cell_type": "code",
   "execution_count": 31,
   "id": "2f8531fb",
   "metadata": {
    "execution": {
     "iopub.execute_input": "2024-04-09T07:41:26.385438Z",
     "iopub.status.busy": "2024-04-09T07:41:26.385062Z",
     "iopub.status.idle": "2024-04-09T07:41:26.751204Z",
     "shell.execute_reply": "2024-04-09T07:41:26.749848Z"
    },
    "papermill": {
     "duration": 0.408429,
     "end_time": "2024-04-09T07:41:26.753948",
     "exception": false,
     "start_time": "2024-04-09T07:41:26.345519",
     "status": "completed"
    },
    "tags": []
   },
   "outputs": [
    {
     "data": {
      "image/png": "[encoded data removed]",
      "text/plain": [
       "<Figure size 640x480 with 1 Axes>"
      ]
     },
     "metadata": {},
     "output_type": "display_data"
    }
   ],
   "source": [
    "plt.title('popular Screen_Size of laptops')\n",
    "sns.countplot(y=df['Screen_Size'],order=order('Screen_Size',15))\n",
    "plt.show()"
   ]
  },
  {
   "cell_type": "code",
   "execution_count": 32,
   "id": "3a921a25",
   "metadata": {
    "execution": {
     "iopub.execute_input": "2024-04-09T07:41:26.831374Z",
     "iopub.status.busy": "2024-04-09T07:41:26.830949Z",
     "iopub.status.idle": "2024-04-09T07:41:26.841267Z",
     "shell.execute_reply": "2024-04-09T07:41:26.839882Z"
    },
    "papermill": {
     "duration": 0.051796,
     "end_time": "2024-04-09T07:41:26.843762",
     "exception": false,
     "start_time": "2024-04-09T07:41:26.791966",
     "status": "completed"
    },
    "tags": []
   },
   "outputs": [
    {
     "data": {
      "text/plain": [
       "Screen\n",
       "Full HD 1920x1080                                507\n",
       "1366x768                                         281\n",
       "IPS Panel Full HD 1920x1080                      230\n",
       "IPS Panel Full HD / Touchscreen 1920x1080         53\n",
       "Full HD / Touchscreen 1920x1080                   47\n",
       "1600x900                                          23\n",
       "Touchscreen 1366x768                              16\n",
       "Quad HD+ / Touchscreen 3200x1800                  15\n",
       "IPS Panel 4K Ultra HD 3840x2160                   12\n",
       "IPS Panel 4K Ultra HD / Touchscreen 3840x2160     11\n",
       "4K Ultra HD / Touchscreen 3840x2160                9\n",
       "4K Ultra HD 3840x2160                              7\n",
       "Touchscreen 2560x1440                              7\n",
       "IPS Panel 1366x768                                 7\n",
       "IPS Panel Quad HD+ / Touchscreen 3200x1800         6\n",
       "IPS Panel Retina Display 2560x1600                 6\n",
       "IPS Panel Retina Display 2304x1440                 6\n",
       "Touchscreen 2256x1504                              6\n",
       "IPS Panel Touchscreen 2560x1440                    5\n",
       "IPS Panel Retina Display 2880x1800                 4\n",
       "IPS Panel Touchscreen 1920x1200                    4\n",
       "1440x900                                           4\n",
       "IPS Panel 2560x1440                                4\n",
       "IPS Panel Quad HD+ 2560x1440                       3\n",
       "Quad HD+ 3200x1800                                 3\n",
       "1920x1080                                          3\n",
       "Touchscreen 2400x1600                              3\n",
       "2560x1440                                          3\n",
       "IPS Panel Touchscreen 1366x768                     3\n",
       "IPS Panel Touchscreen / 4K Ultra HD 3840x2160      2\n",
       "IPS Panel Full HD 2160x1440                        2\n",
       "IPS Panel Quad HD+ 3200x1800                       2\n",
       "IPS Panel Retina Display 2736x1824                 1\n",
       "IPS Panel Full HD 1920x1200                        1\n",
       "IPS Panel Full HD 2560x1440                        1\n",
       "IPS Panel Full HD 1366x768                         1\n",
       "Touchscreen / Full HD 1920x1080                    1\n",
       "Touchscreen / Quad HD+ 3200x1800                   1\n",
       "Touchscreen / 4K Ultra HD 3840x2160                1\n",
       "IPS Panel Touchscreen 2400x1600                    1\n",
       "Name: count, dtype: int64"
      ]
     },
     "execution_count": 32,
     "metadata": {},
     "output_type": "execute_result"
    }
   ],
   "source": [
    "df['Screen'].value_counts()"
   ]
  },
  {
   "cell_type": "code",
   "execution_count": 33,
   "id": "ae64c78d",
   "metadata": {
    "execution": {
     "iopub.execute_input": "2024-04-09T07:41:26.921780Z",
     "iopub.status.busy": "2024-04-09T07:41:26.921391Z",
     "iopub.status.idle": "2024-04-09T07:41:26.930076Z",
     "shell.execute_reply": "2024-04-09T07:41:26.929148Z"
    },
    "papermill": {
     "duration": 0.051099,
     "end_time": "2024-04-09T07:41:26.932481",
     "exception": false,
     "start_time": "2024-04-09T07:41:26.881382",
     "status": "completed"
    },
    "tags": []
   },
   "outputs": [],
   "source": [
    "df['Touchscreen']=df['Screen'].str.contains('Touchscreen',case=False).astype('int32')"
   ]
  },
  {
   "cell_type": "code",
   "execution_count": 34,
   "id": "4541c4fe",
   "metadata": {
    "execution": {
     "iopub.execute_input": "2024-04-09T07:41:27.011264Z",
     "iopub.status.busy": "2024-04-09T07:41:27.010215Z",
     "iopub.status.idle": "2024-04-09T07:41:27.021510Z",
     "shell.execute_reply": "2024-04-09T07:41:27.020414Z"
    },
    "papermill": {
     "duration": 0.052827,
     "end_time": "2024-04-09T07:41:27.024277",
     "exception": false,
     "start_time": "2024-04-09T07:41:26.971450",
     "status": "completed"
    },
    "tags": []
   },
   "outputs": [
    {
     "data": {
      "text/plain": [
       "Touchscreen\n",
       "0    1111\n",
       "1     191\n",
       "Name: count, dtype: int64"
      ]
     },
     "execution_count": 34,
     "metadata": {},
     "output_type": "execute_result"
    }
   ],
   "source": [
    "df['Touchscreen'].value_counts()"
   ]
  },
  {
   "cell_type": "code",
   "execution_count": 35,
   "id": "8945e866",
   "metadata": {
    "execution": {
     "iopub.execute_input": "2024-04-09T07:41:27.101950Z",
     "iopub.status.busy": "2024-04-09T07:41:27.101537Z",
     "iopub.status.idle": "2024-04-09T07:41:27.111747Z",
     "shell.execute_reply": "2024-04-09T07:41:27.110485Z"
    },
    "papermill": {
     "duration": 0.051718,
     "end_time": "2024-04-09T07:41:27.114130",
     "exception": false,
     "start_time": "2024-04-09T07:41:27.062412",
     "status": "completed"
    },
    "tags": []
   },
   "outputs": [],
   "source": [
    "df['IPS_panel']=df['Screen'].str.contains('IPS',case=False).astype('int32')"
   ]
  },
  {
   "cell_type": "code",
   "execution_count": 36,
   "id": "98631904",
   "metadata": {
    "execution": {
     "iopub.execute_input": "2024-04-09T07:41:27.191843Z",
     "iopub.status.busy": "2024-04-09T07:41:27.191438Z",
     "iopub.status.idle": "2024-04-09T07:41:27.201261Z",
     "shell.execute_reply": "2024-04-09T07:41:27.200147Z"
    },
    "papermill": {
     "duration": 0.051599,
     "end_time": "2024-04-09T07:41:27.203829",
     "exception": false,
     "start_time": "2024-04-09T07:41:27.152230",
     "status": "completed"
    },
    "tags": []
   },
   "outputs": [
    {
     "data": {
      "text/plain": [
       "IPS_panel\n",
       "0    937\n",
       "1    365\n",
       "Name: count, dtype: int64"
      ]
     },
     "execution_count": 36,
     "metadata": {},
     "output_type": "execute_result"
    }
   ],
   "source": [
    "df['IPS_panel'].value_counts()"
   ]
  },
  {
   "cell_type": "code",
   "execution_count": 37,
   "id": "8b3a3536",
   "metadata": {
    "execution": {
     "iopub.execute_input": "2024-04-09T07:41:27.283254Z",
     "iopub.status.busy": "2024-04-09T07:41:27.282784Z",
     "iopub.status.idle": "2024-04-09T07:41:27.291265Z",
     "shell.execute_reply": "2024-04-09T07:41:27.290127Z"
    },
    "papermill": {
     "duration": 0.052056,
     "end_time": "2024-04-09T07:41:27.293671",
     "exception": false,
     "start_time": "2024-04-09T07:41:27.241615",
     "status": "completed"
    },
    "tags": []
   },
   "outputs": [],
   "source": [
    "df['Retina_Display']=df['Screen'].str.contains('Retina Display',case=False).astype('int32')"
   ]
  },
  {
   "cell_type": "code",
   "execution_count": 38,
   "id": "7089c82a",
   "metadata": {
    "execution": {
     "iopub.execute_input": "2024-04-09T07:41:27.371099Z",
     "iopub.status.busy": "2024-04-09T07:41:27.370671Z",
     "iopub.status.idle": "2024-04-09T07:41:27.379529Z",
     "shell.execute_reply": "2024-04-09T07:41:27.378616Z"
    },
    "papermill": {
     "duration": 0.050063,
     "end_time": "2024-04-09T07:41:27.381685",
     "exception": false,
     "start_time": "2024-04-09T07:41:27.331622",
     "status": "completed"
    },
    "tags": []
   },
   "outputs": [
    {
     "data": {
      "text/plain": [
       "Retina_Display\n",
       "0    1285\n",
       "1      17\n",
       "Name: count, dtype: int64"
      ]
     },
     "execution_count": 38,
     "metadata": {},
     "output_type": "execute_result"
    }
   ],
   "source": [
    "df['Retina_Display'].value_counts()"
   ]
  },
  {
   "cell_type": "code",
   "execution_count": 39,
   "id": "4ad62e5b",
   "metadata": {
    "execution": {
     "iopub.execute_input": "2024-04-09T07:41:27.460727Z",
     "iopub.status.busy": "2024-04-09T07:41:27.460202Z",
     "iopub.status.idle": "2024-04-09T07:41:27.478204Z",
     "shell.execute_reply": "2024-04-09T07:41:27.476255Z"
    },
    "papermill": {
     "duration": 0.060981,
     "end_time": "2024-04-09T07:41:27.480692",
     "exception": false,
     "start_time": "2024-04-09T07:41:27.419711",
     "status": "completed"
    },
    "tags": []
   },
   "outputs": [
    {
     "name": "stdout",
     "output_type": "stream",
     "text": [
      "<class 'pandas.core.frame.DataFrame'>\n",
      "Index: 1302 entries, 0 to 324\n",
      "Data columns (total 15 columns):\n",
      " #   Column          Non-Null Count  Dtype  \n",
      "---  ------          --------------  -----  \n",
      " 0   Manufacturer    1302 non-null   int64  \n",
      " 1   Category        1302 non-null   int64  \n",
      " 2   Screen_Size     1302 non-null   float64\n",
      " 3   Screen          1302 non-null   object \n",
      " 4   CPU             1302 non-null   object \n",
      " 5   RAM             1302 non-null   object \n",
      " 6    Storage        1302 non-null   object \n",
      " 7   GPU             1302 non-null   object \n",
      " 8   OS              1302 non-null   object \n",
      " 9   OS_version      1302 non-null   object \n",
      " 10  Weight          1302 non-null   object \n",
      " 11  Price           1302 non-null   float64\n",
      " 12  Touchscreen     1302 non-null   int32  \n",
      " 13  IPS_panel       1302 non-null   int32  \n",
      " 14  Retina_Display  1302 non-null   int32  \n",
      "dtypes: float64(2), int32(3), int64(2), object(8)\n",
      "memory usage: 147.5+ KB\n"
     ]
    }
   ],
   "source": [
    "df.info()"
   ]
  },
  {
   "cell_type": "code",
   "execution_count": 40,
   "id": "6893eee1",
   "metadata": {
    "execution": {
     "iopub.execute_input": "2024-04-09T07:41:27.560347Z",
     "iopub.status.busy": "2024-04-09T07:41:27.559846Z",
     "iopub.status.idle": "2024-04-09T07:41:27.569016Z",
     "shell.execute_reply": "2024-04-09T07:41:27.567780Z"
    },
    "papermill": {
     "duration": 0.051191,
     "end_time": "2024-04-09T07:41:27.571489",
     "exception": false,
     "start_time": "2024-04-09T07:41:27.520298",
     "status": "completed"
    },
    "tags": []
   },
   "outputs": [],
   "source": [
    "df['full_hd_display']=df['Screen'].str.contains('Full HD' ,case=False).astype('int32')"
   ]
  },
  {
   "cell_type": "code",
   "execution_count": 41,
   "id": "d6b0e8e0",
   "metadata": {
    "execution": {
     "iopub.execute_input": "2024-04-09T07:41:27.650505Z",
     "iopub.status.busy": "2024-04-09T07:41:27.650014Z",
     "iopub.status.idle": "2024-04-09T07:41:27.659388Z",
     "shell.execute_reply": "2024-04-09T07:41:27.658308Z"
    },
    "papermill": {
     "duration": 0.051668,
     "end_time": "2024-04-09T07:41:27.661694",
     "exception": false,
     "start_time": "2024-04-09T07:41:27.610026",
     "status": "completed"
    },
    "tags": []
   },
   "outputs": [
    {
     "data": {
      "text/plain": [
       "full_hd_display\n",
       "1    843\n",
       "0    459\n",
       "Name: count, dtype: int64"
      ]
     },
     "execution_count": 41,
     "metadata": {},
     "output_type": "execute_result"
    }
   ],
   "source": [
    "df['full_hd_display'].value_counts()"
   ]
  },
  {
   "cell_type": "code",
   "execution_count": 42,
   "id": "b160a2db",
   "metadata": {
    "execution": {
     "iopub.execute_input": "2024-04-09T07:41:27.741638Z",
     "iopub.status.busy": "2024-04-09T07:41:27.741202Z",
     "iopub.status.idle": "2024-04-09T07:41:27.893361Z",
     "shell.execute_reply": "2024-04-09T07:41:27.891842Z"
    },
    "papermill": {
     "duration": 0.197956,
     "end_time": "2024-04-09T07:41:27.898034",
     "exception": false,
     "start_time": "2024-04-09T07:41:27.700078",
     "status": "completed"
    },
    "tags": []
   },
   "outputs": [
    {
     "data": {
      "image/png": "[encoded data removed]",
      "text/plain": [
       "<Figure size 640x480 with 1 Axes>"
      ]
     },
     "metadata": {},
     "output_type": "display_data"
    }
   ],
   "source": [
    "plt.title('full_hd_display')\n",
    "plt.pie(df['full_hd_display'].value_counts(),labels=['Yes','No'],autopct='%.1f%%',colors=['blue','green'])\n",
    "plt.show()"
   ]
  },
  {
   "cell_type": "code",
   "execution_count": 43,
   "id": "660c3d62",
   "metadata": {
    "execution": {
     "iopub.execute_input": "2024-04-09T07:41:28.007383Z",
     "iopub.status.busy": "2024-04-09T07:41:28.006928Z",
     "iopub.status.idle": "2024-04-09T07:41:28.015948Z",
     "shell.execute_reply": "2024-04-09T07:41:28.014709Z"
    },
    "papermill": {
     "duration": 0.051275,
     "end_time": "2024-04-09T07:41:28.018346",
     "exception": false,
     "start_time": "2024-04-09T07:41:27.967071",
     "status": "completed"
    },
    "tags": []
   },
   "outputs": [],
   "source": [
    "df['Quad_HD+']=df['Screen'].str.contains('Quad HD',case=False).astype('int32')"
   ]
  },
  {
   "cell_type": "code",
   "execution_count": 44,
   "id": "efb2d632",
   "metadata": {
    "execution": {
     "iopub.execute_input": "2024-04-09T07:41:28.100959Z",
     "iopub.status.busy": "2024-04-09T07:41:28.099684Z",
     "iopub.status.idle": "2024-04-09T07:41:28.108649Z",
     "shell.execute_reply": "2024-04-09T07:41:28.107662Z"
    },
    "papermill": {
     "duration": 0.05234,
     "end_time": "2024-04-09T07:41:28.111020",
     "exception": false,
     "start_time": "2024-04-09T07:41:28.058680",
     "status": "completed"
    },
    "tags": []
   },
   "outputs": [
    {
     "data": {
      "text/plain": [
       "Quad_HD+\n",
       "0    1272\n",
       "1      30\n",
       "Name: count, dtype: int64"
      ]
     },
     "execution_count": 44,
     "metadata": {},
     "output_type": "execute_result"
    }
   ],
   "source": [
    "df['Quad_HD+'].value_counts()"
   ]
  },
  {
   "cell_type": "code",
   "execution_count": 45,
   "id": "106f4c9a",
   "metadata": {
    "execution": {
     "iopub.execute_input": "2024-04-09T07:41:28.190894Z",
     "iopub.status.busy": "2024-04-09T07:41:28.190170Z",
     "iopub.status.idle": "2024-04-09T07:41:28.331556Z",
     "shell.execute_reply": "2024-04-09T07:41:28.329728Z"
    },
    "papermill": {
     "duration": 0.187602,
     "end_time": "2024-04-09T07:41:28.337138",
     "exception": false,
     "start_time": "2024-04-09T07:41:28.149536",
     "status": "completed"
    },
    "tags": []
   },
   "outputs": [
    {
     "data": {
      "image/png": "[encoded data removed]",
      "text/plain": [
       "<Figure size 640x480 with 1 Axes>"
      ]
     },
     "metadata": {},
     "output_type": "display_data"
    }
   ],
   "source": [
    "plt.title('Quad_HD+')\n",
    "plt.pie(df['Quad_HD+'].value_counts(),labels=['Yes','No'],autopct='%.1f%%',colors=['blue','green'])\n",
    "plt.show()"
   ]
  },
  {
   "cell_type": "code",
   "execution_count": 46,
   "id": "7290703d",
   "metadata": {
    "execution": {
     "iopub.execute_input": "2024-04-09T07:41:28.448421Z",
     "iopub.status.busy": "2024-04-09T07:41:28.448024Z",
     "iopub.status.idle": "2024-04-09T07:41:28.468359Z",
     "shell.execute_reply": "2024-04-09T07:41:28.467381Z"
    },
    "papermill": {
     "duration": 0.063626,
     "end_time": "2024-04-09T07:41:28.471211",
     "exception": false,
     "start_time": "2024-04-09T07:41:28.407585",
     "status": "completed"
    },
    "tags": []
   },
   "outputs": [],
   "source": [
    "df['xres']=df['Screen'].str.extract(r'(\\d+)x\\d+').astype('int32')\n",
    "df['yres']=df['Screen'].str.extract(r'(\\d+)x\\d+').astype('int32')\n",
    "df.drop('Screen',axis=1,inplace=True)"
   ]
  },
  {
   "cell_type": "code",
   "execution_count": 47,
   "id": "aba17fae",
   "metadata": {
    "execution": {
     "iopub.execute_input": "2024-04-09T07:41:28.551104Z",
     "iopub.status.busy": "2024-04-09T07:41:28.550296Z",
     "iopub.status.idle": "2024-04-09T07:41:28.559377Z",
     "shell.execute_reply": "2024-04-09T07:41:28.558313Z"
    },
    "papermill": {
     "duration": 0.051857,
     "end_time": "2024-04-09T07:41:28.561938",
     "exception": false,
     "start_time": "2024-04-09T07:41:28.510081",
     "status": "completed"
    },
    "tags": []
   },
   "outputs": [],
   "source": [
    "df['PPI']=(((df['xres']**2+df['yres']**2)**0.5)/df['Screen_Size'])"
   ]
  },
  {
   "cell_type": "code",
   "execution_count": 48,
   "id": "c442ee6a",
   "metadata": {
    "execution": {
     "iopub.execute_input": "2024-04-09T07:41:28.644406Z",
     "iopub.status.busy": "2024-04-09T07:41:28.643454Z",
     "iopub.status.idle": "2024-04-09T07:41:28.653322Z",
     "shell.execute_reply": "2024-04-09T07:41:28.651996Z"
    },
    "papermill": {
     "duration": 0.053866,
     "end_time": "2024-04-09T07:41:28.655848",
     "exception": false,
     "start_time": "2024-04-09T07:41:28.601982",
     "status": "completed"
    },
    "tags": []
   },
   "outputs": [
    {
     "data": {
      "text/plain": [
       "0      272.209528\n",
       "1      153.117859\n",
       "2      174.057054\n",
       "3      264.476303\n",
       "4      272.209528\n",
       "          ...    \n",
       "320    193.949289\n",
       "321    340.261910\n",
       "322    137.986838\n",
       "323    123.834341\n",
       "324    123.834341\n",
       "Name: PPI, Length: 1302, dtype: float64"
      ]
     },
     "execution_count": 48,
     "metadata": {},
     "output_type": "execute_result"
    }
   ],
   "source": [
    "df['PPI']"
   ]
  },
  {
   "cell_type": "code",
   "execution_count": 49,
   "id": "324994ac",
   "metadata": {
    "execution": {
     "iopub.execute_input": "2024-04-09T07:41:28.738026Z",
     "iopub.status.busy": "2024-04-09T07:41:28.737496Z",
     "iopub.status.idle": "2024-04-09T07:41:28.756838Z",
     "shell.execute_reply": "2024-04-09T07:41:28.755191Z"
    },
    "papermill": {
     "duration": 0.064613,
     "end_time": "2024-04-09T07:41:28.759982",
     "exception": false,
     "start_time": "2024-04-09T07:41:28.695369",
     "status": "completed"
    },
    "tags": []
   },
   "outputs": [
    {
     "name": "stdout",
     "output_type": "stream",
     "text": [
      "<class 'pandas.core.frame.DataFrame'>\n",
      "Index: 1302 entries, 0 to 324\n",
      "Data columns (total 19 columns):\n",
      " #   Column           Non-Null Count  Dtype  \n",
      "---  ------           --------------  -----  \n",
      " 0   Manufacturer     1302 non-null   int64  \n",
      " 1   Category         1302 non-null   int64  \n",
      " 2   Screen_Size      1302 non-null   float64\n",
      " 3   CPU              1302 non-null   object \n",
      " 4   RAM              1302 non-null   object \n",
      " 5    Storage         1302 non-null   object \n",
      " 6   GPU              1302 non-null   object \n",
      " 7   OS               1302 non-null   object \n",
      " 8   OS_version       1302 non-null   object \n",
      " 9   Weight           1302 non-null   object \n",
      " 10  Price            1302 non-null   float64\n",
      " 11  Touchscreen      1302 non-null   int32  \n",
      " 12  IPS_panel        1302 non-null   int32  \n",
      " 13  Retina_Display   1302 non-null   int32  \n",
      " 14  full_hd_display  1302 non-null   int32  \n",
      " 15  Quad_HD+         1302 non-null   int32  \n",
      " 16  xres             1302 non-null   int32  \n",
      " 17  yres             1302 non-null   int32  \n",
      " 18  PPI              1302 non-null   float64\n",
      "dtypes: float64(3), int32(7), int64(2), object(7)\n",
      "memory usage: 167.8+ KB\n"
     ]
    }
   ],
   "source": [
    "df.info()"
   ]
  },
  {
   "cell_type": "code",
   "execution_count": 50,
   "id": "76b2ecae",
   "metadata": {
    "execution": {
     "iopub.execute_input": "2024-04-09T07:41:28.842825Z",
     "iopub.status.busy": "2024-04-09T07:41:28.841723Z",
     "iopub.status.idle": "2024-04-09T07:41:28.849742Z",
     "shell.execute_reply": "2024-04-09T07:41:28.848543Z"
    },
    "papermill": {
     "duration": 0.052546,
     "end_time": "2024-04-09T07:41:28.852026",
     "exception": false,
     "start_time": "2024-04-09T07:41:28.799480",
     "status": "completed"
    },
    "tags": []
   },
   "outputs": [],
   "source": [
    "df.drop(['xres','yres'],axis=1,inplace=True)"
   ]
  },
  {
   "cell_type": "code",
   "execution_count": 51,
   "id": "3520900f",
   "metadata": {
    "execution": {
     "iopub.execute_input": "2024-04-09T07:41:28.933984Z",
     "iopub.status.busy": "2024-04-09T07:41:28.932903Z",
     "iopub.status.idle": "2024-04-09T07:41:28.948702Z",
     "shell.execute_reply": "2024-04-09T07:41:28.947571Z"
    },
    "papermill": {
     "duration": 0.059784,
     "end_time": "2024-04-09T07:41:28.951233",
     "exception": false,
     "start_time": "2024-04-09T07:41:28.891449",
     "status": "completed"
    },
    "tags": []
   },
   "outputs": [
    {
     "name": "stdout",
     "output_type": "stream",
     "text": [
      "<class 'pandas.core.frame.DataFrame'>\n",
      "Index: 1302 entries, 0 to 324\n",
      "Data columns (total 17 columns):\n",
      " #   Column           Non-Null Count  Dtype  \n",
      "---  ------           --------------  -----  \n",
      " 0   Manufacturer     1302 non-null   int64  \n",
      " 1   Category         1302 non-null   int64  \n",
      " 2   Screen_Size      1302 non-null   float64\n",
      " 3   CPU              1302 non-null   object \n",
      " 4   RAM              1302 non-null   object \n",
      " 5    Storage         1302 non-null   object \n",
      " 6   GPU              1302 non-null   object \n",
      " 7   OS               1302 non-null   object \n",
      " 8   OS_version       1302 non-null   object \n",
      " 9   Weight           1302 non-null   object \n",
      " 10  Price            1302 non-null   float64\n",
      " 11  Touchscreen      1302 non-null   int32  \n",
      " 12  IPS_panel        1302 non-null   int32  \n",
      " 13  Retina_Display   1302 non-null   int32  \n",
      " 14  full_hd_display  1302 non-null   int32  \n",
      " 15  Quad_HD+         1302 non-null   int32  \n",
      " 16  PPI              1302 non-null   float64\n",
      "dtypes: float64(3), int32(5), int64(2), object(7)\n",
      "memory usage: 157.7+ KB\n"
     ]
    }
   ],
   "source": [
    "df.info()"
   ]
  },
  {
   "cell_type": "code",
   "execution_count": 52,
   "id": "017fb29c",
   "metadata": {
    "execution": {
     "iopub.execute_input": "2024-04-09T07:41:29.034244Z",
     "iopub.status.busy": "2024-04-09T07:41:29.033582Z",
     "iopub.status.idle": "2024-04-09T07:41:29.058340Z",
     "shell.execute_reply": "2024-04-09T07:41:29.057226Z"
    },
    "papermill": {
     "duration": 0.069708,
     "end_time": "2024-04-09T07:41:29.060934",
     "exception": false,
     "start_time": "2024-04-09T07:41:28.991226",
     "status": "completed"
    },
    "tags": []
   },
   "outputs": [
    {
     "data": {
      "text/html": [
       "<div>\n",
       "<style scoped>\n",
       "    .dataframe tbody tr th:only-of-type {\n",
       "        vertical-align: middle;\n",
       "    }\n",
       "\n",
       "    .dataframe tbody tr th {\n",
       "        vertical-align: top;\n",
       "    }\n",
       "\n",
       "    .dataframe thead th {\n",
       "        text-align: right;\n",
       "    }\n",
       "</style>\n",
       "<table border=\"1\" class=\"dataframe\">\n",
       "  <thead>\n",
       "    <tr style=\"text-align: right;\">\n",
       "      <th></th>\n",
       "      <th>Manufacturer</th>\n",
       "      <th>Category</th>\n",
       "      <th>Screen_Size</th>\n",
       "      <th>CPU</th>\n",
       "      <th>RAM</th>\n",
       "      <th>Storage</th>\n",
       "      <th>GPU</th>\n",
       "      <th>OS</th>\n",
       "      <th>OS_version</th>\n",
       "      <th>Weight</th>\n",
       "      <th>Price</th>\n",
       "      <th>Touchscreen</th>\n",
       "      <th>IPS_panel</th>\n",
       "      <th>Retina_Display</th>\n",
       "      <th>full_hd_display</th>\n",
       "      <th>Quad_HD+</th>\n",
       "      <th>PPI</th>\n",
       "    </tr>\n",
       "  </thead>\n",
       "  <tbody>\n",
       "    <tr>\n",
       "      <th>0</th>\n",
       "      <td>1</td>\n",
       "      <td>4</td>\n",
       "      <td>13.3</td>\n",
       "      <td>Intel Core i5 2.3GHz</td>\n",
       "      <td>8GB</td>\n",
       "      <td>128GB SSD</td>\n",
       "      <td>Intel Iris Plus Graphics 640</td>\n",
       "      <td>macOS</td>\n",
       "      <td>10</td>\n",
       "      <td>1.37kg</td>\n",
       "      <td>11912523.48</td>\n",
       "      <td>0</td>\n",
       "      <td>1</td>\n",
       "      <td>1</td>\n",
       "      <td>0</td>\n",
       "      <td>0</td>\n",
       "      <td>272.209528</td>\n",
       "    </tr>\n",
       "    <tr>\n",
       "      <th>1</th>\n",
       "      <td>1</td>\n",
       "      <td>4</td>\n",
       "      <td>13.3</td>\n",
       "      <td>Intel Core i5 1.8GHz</td>\n",
       "      <td>8GB</td>\n",
       "      <td>128GB Flash Storage</td>\n",
       "      <td>Intel HD Graphics 6000</td>\n",
       "      <td>macOS</td>\n",
       "      <td>10</td>\n",
       "      <td>1.34kg</td>\n",
       "      <td>7993374.48</td>\n",
       "      <td>0</td>\n",
       "      <td>0</td>\n",
       "      <td>0</td>\n",
       "      <td>0</td>\n",
       "      <td>0</td>\n",
       "      <td>153.117859</td>\n",
       "    </tr>\n",
       "    <tr>\n",
       "      <th>2</th>\n",
       "      <td>7</td>\n",
       "      <td>3</td>\n",
       "      <td>15.6</td>\n",
       "      <td>Intel Core i5 7200U 2.5GHz</td>\n",
       "      <td>8GB</td>\n",
       "      <td>256GB SSD</td>\n",
       "      <td>Intel HD Graphics 620</td>\n",
       "      <td>No OS</td>\n",
       "      <td>10</td>\n",
       "      <td>1.86kg</td>\n",
       "      <td>5112900.00</td>\n",
       "      <td>0</td>\n",
       "      <td>0</td>\n",
       "      <td>0</td>\n",
       "      <td>1</td>\n",
       "      <td>0</td>\n",
       "      <td>174.057054</td>\n",
       "    </tr>\n",
       "    <tr>\n",
       "      <th>3</th>\n",
       "      <td>1</td>\n",
       "      <td>4</td>\n",
       "      <td>15.4</td>\n",
       "      <td>Intel Core i7 2.7GHz</td>\n",
       "      <td>16GB</td>\n",
       "      <td>512GB SSD</td>\n",
       "      <td>AMD Radeon Pro 455</td>\n",
       "      <td>macOS</td>\n",
       "      <td>10</td>\n",
       "      <td>1.83kg</td>\n",
       "      <td>22563005.40</td>\n",
       "      <td>0</td>\n",
       "      <td>1</td>\n",
       "      <td>1</td>\n",
       "      <td>0</td>\n",
       "      <td>0</td>\n",
       "      <td>264.476303</td>\n",
       "    </tr>\n",
       "    <tr>\n",
       "      <th>4</th>\n",
       "      <td>1</td>\n",
       "      <td>4</td>\n",
       "      <td>13.3</td>\n",
       "      <td>Intel Core i5 3.1GHz</td>\n",
       "      <td>8GB</td>\n",
       "      <td>256GB SSD</td>\n",
       "      <td>Intel Iris Plus Graphics 650</td>\n",
       "      <td>macOS</td>\n",
       "      <td>10</td>\n",
       "      <td>1.37kg</td>\n",
       "      <td>16037611.20</td>\n",
       "      <td>0</td>\n",
       "      <td>1</td>\n",
       "      <td>1</td>\n",
       "      <td>0</td>\n",
       "      <td>0</td>\n",
       "      <td>272.209528</td>\n",
       "    </tr>\n",
       "  </tbody>\n",
       "</table>\n",
       "</div>"
      ],
      "text/plain": [
       "   Manufacturer  Category  Screen_Size                         CPU   RAM  \\\n",
       "0             1         4         13.3        Intel Core i5 2.3GHz   8GB   \n",
       "1             1         4         13.3        Intel Core i5 1.8GHz   8GB   \n",
       "2             7         3         15.6  Intel Core i5 7200U 2.5GHz   8GB   \n",
       "3             1         4         15.4        Intel Core i7 2.7GHz  16GB   \n",
       "4             1         4         13.3        Intel Core i5 3.1GHz   8GB   \n",
       "\n",
       "               Storage                           GPU     OS OS_version  \\\n",
       "0            128GB SSD  Intel Iris Plus Graphics 640  macOS         10   \n",
       "1  128GB Flash Storage        Intel HD Graphics 6000  macOS         10   \n",
       "2            256GB SSD         Intel HD Graphics 620  No OS         10   \n",
       "3            512GB SSD            AMD Radeon Pro 455  macOS         10   \n",
       "4            256GB SSD  Intel Iris Plus Graphics 650  macOS         10   \n",
       "\n",
       "   Weight        Price  Touchscreen  IPS_panel  Retina_Display  \\\n",
       "0  1.37kg  11912523.48            0          1               1   \n",
       "1  1.34kg   7993374.48            0          0               0   \n",
       "2  1.86kg   5112900.00            0          0               0   \n",
       "3  1.83kg  22563005.40            0          1               1   \n",
       "4  1.37kg  16037611.20            0          1               1   \n",
       "\n",
       "   full_hd_display  Quad_HD+         PPI  \n",
       "0                0         0  272.209528  \n",
       "1                0         0  153.117859  \n",
       "2                1         0  174.057054  \n",
       "3                0         0  264.476303  \n",
       "4                0         0  272.209528  "
      ]
     },
     "execution_count": 52,
     "metadata": {},
     "output_type": "execute_result"
    }
   ],
   "source": [
    "df.head()"
   ]
  },
  {
   "cell_type": "code",
   "execution_count": 53,
   "id": "17345314",
   "metadata": {
    "execution": {
     "iopub.execute_input": "2024-04-09T07:41:29.143683Z",
     "iopub.status.busy": "2024-04-09T07:41:29.143218Z",
     "iopub.status.idle": "2024-04-09T07:41:29.155383Z",
     "shell.execute_reply": "2024-04-09T07:41:29.154130Z"
    },
    "papermill": {
     "duration": 0.056292,
     "end_time": "2024-04-09T07:41:29.158285",
     "exception": false,
     "start_time": "2024-04-09T07:41:29.101993",
     "status": "completed"
    },
    "tags": []
   },
   "outputs": [],
   "source": [
    "df['Weight']=df['Weight'].str.extract(r'(\\d+\\.?\\d*)').astype('float')"
   ]
  },
  {
   "cell_type": "code",
   "execution_count": 54,
   "id": "9e0e8a3f",
   "metadata": {
    "execution": {
     "iopub.execute_input": "2024-04-09T07:41:29.241739Z",
     "iopub.status.busy": "2024-04-09T07:41:29.241337Z",
     "iopub.status.idle": "2024-04-09T07:41:29.250703Z",
     "shell.execute_reply": "2024-04-09T07:41:29.249331Z"
    },
    "papermill": {
     "duration": 0.053765,
     "end_time": "2024-04-09T07:41:29.253406",
     "exception": false,
     "start_time": "2024-04-09T07:41:29.199641",
     "status": "completed"
    },
    "tags": []
   },
   "outputs": [
    {
     "data": {
      "text/plain": [
       "171"
      ]
     },
     "execution_count": 54,
     "metadata": {},
     "output_type": "execute_result"
    }
   ],
   "source": [
    "df['Weight'].nunique()"
   ]
  },
  {
   "cell_type": "code",
   "execution_count": 55,
   "id": "74e44400",
   "metadata": {
    "execution": {
     "iopub.execute_input": "2024-04-09T07:41:29.336964Z",
     "iopub.status.busy": "2024-04-09T07:41:29.336451Z",
     "iopub.status.idle": "2024-04-09T07:41:29.346713Z",
     "shell.execute_reply": "2024-04-09T07:41:29.345779Z"
    },
    "papermill": {
     "duration": 0.054375,
     "end_time": "2024-04-09T07:41:29.349249",
     "exception": false,
     "start_time": "2024-04-09T07:41:29.294874",
     "status": "completed"
    },
    "tags": []
   },
   "outputs": [
    {
     "data": {
      "text/plain": [
       "Weight\n",
       "2.20    126\n",
       "2.10     58\n",
       "2.00     45\n",
       "2.40     44\n",
       "2.30     40\n",
       "       ... \n",
       "4.50      1\n",
       "1.14      1\n",
       "3.80      1\n",
       "3.25      1\n",
       "2.34      1\n",
       "Name: count, Length: 171, dtype: int64"
      ]
     },
     "execution_count": 55,
     "metadata": {},
     "output_type": "execute_result"
    }
   ],
   "source": [
    "df['Weight'].value_counts()"
   ]
  },
  {
   "cell_type": "code",
   "execution_count": 56,
   "id": "0a1d308d",
   "metadata": {
    "execution": {
     "iopub.execute_input": "2024-04-09T07:41:29.433049Z",
     "iopub.status.busy": "2024-04-09T07:41:29.432408Z",
     "iopub.status.idle": "2024-04-09T07:41:29.450218Z",
     "shell.execute_reply": "2024-04-09T07:41:29.449026Z"
    },
    "papermill": {
     "duration": 0.06298,
     "end_time": "2024-04-09T07:41:29.452740",
     "exception": false,
     "start_time": "2024-04-09T07:41:29.389760",
     "status": "completed"
    },
    "tags": []
   },
   "outputs": [
    {
     "data": {
      "text/html": [
       "<div>\n",
       "<style scoped>\n",
       "    .dataframe tbody tr th:only-of-type {\n",
       "        vertical-align: middle;\n",
       "    }\n",
       "\n",
       "    .dataframe tbody tr th {\n",
       "        vertical-align: top;\n",
       "    }\n",
       "\n",
       "    .dataframe thead th {\n",
       "        text-align: right;\n",
       "    }\n",
       "</style>\n",
       "<table border=\"1\" class=\"dataframe\">\n",
       "  <thead>\n",
       "    <tr style=\"text-align: right;\">\n",
       "      <th></th>\n",
       "      <th>0</th>\n",
       "      <th>1</th>\n",
       "    </tr>\n",
       "  </thead>\n",
       "  <tbody>\n",
       "    <tr>\n",
       "      <th>0</th>\n",
       "      <td></td>\n",
       "      <td>Intel Iris Plus Graphics 640</td>\n",
       "    </tr>\n",
       "    <tr>\n",
       "      <th>1</th>\n",
       "      <td></td>\n",
       "      <td>Intel HD Graphics 6000</td>\n",
       "    </tr>\n",
       "    <tr>\n",
       "      <th>2</th>\n",
       "      <td></td>\n",
       "      <td>Intel HD Graphics 620</td>\n",
       "    </tr>\n",
       "    <tr>\n",
       "      <th>3</th>\n",
       "      <td></td>\n",
       "      <td>AMD Radeon Pro 455</td>\n",
       "    </tr>\n",
       "    <tr>\n",
       "      <th>4</th>\n",
       "      <td></td>\n",
       "      <td>Intel Iris Plus Graphics 650</td>\n",
       "    </tr>\n",
       "    <tr>\n",
       "      <th>...</th>\n",
       "      <td>...</td>\n",
       "      <td>...</td>\n",
       "    </tr>\n",
       "    <tr>\n",
       "      <th>320</th>\n",
       "      <td></td>\n",
       "      <td>Intel HD Graphics 520</td>\n",
       "    </tr>\n",
       "    <tr>\n",
       "      <th>321</th>\n",
       "      <td></td>\n",
       "      <td>Intel HD Graphics 520</td>\n",
       "    </tr>\n",
       "    <tr>\n",
       "      <th>322</th>\n",
       "      <td></td>\n",
       "      <td>Intel HD Graphics</td>\n",
       "    </tr>\n",
       "    <tr>\n",
       "      <th>323</th>\n",
       "      <td></td>\n",
       "      <td>AMD Radeon R5 M330</td>\n",
       "    </tr>\n",
       "    <tr>\n",
       "      <th>324</th>\n",
       "      <td></td>\n",
       "      <td>Intel HD Graphics</td>\n",
       "    </tr>\n",
       "  </tbody>\n",
       "</table>\n",
       "<p>1302 rows × 2 columns</p>\n",
       "</div>"
      ],
      "text/plain": [
       "    0                              1\n",
       "0       Intel Iris Plus Graphics 640\n",
       "1             Intel HD Graphics 6000\n",
       "2              Intel HD Graphics 620\n",
       "3                 AMD Radeon Pro 455\n",
       "4       Intel Iris Plus Graphics 650\n",
       "..  ..                           ...\n",
       "320            Intel HD Graphics 520\n",
       "321            Intel HD Graphics 520\n",
       "322                Intel HD Graphics\n",
       "323               AMD Radeon R5 M330\n",
       "324                Intel HD Graphics\n",
       "\n",
       "[1302 rows x 2 columns]"
      ]
     },
     "execution_count": 56,
     "metadata": {},
     "output_type": "execute_result"
    }
   ],
   "source": [
    "n=df['GPU'].str.split('',n=1,expand=True)\n",
    "n"
   ]
  },
  {
   "cell_type": "code",
   "execution_count": 57,
   "id": "79be1630",
   "metadata": {
    "execution": {
     "iopub.execute_input": "2024-04-09T07:41:29.538463Z",
     "iopub.status.busy": "2024-04-09T07:41:29.538058Z",
     "iopub.status.idle": "2024-04-09T07:41:29.552991Z",
     "shell.execute_reply": "2024-04-09T07:41:29.551517Z"
    },
    "papermill": {
     "duration": 0.060924,
     "end_time": "2024-04-09T07:41:29.555852",
     "exception": false,
     "start_time": "2024-04-09T07:41:29.494928",
     "status": "completed"
    },
    "tags": []
   },
   "outputs": [
    {
     "data": {
      "text/plain": [
       "GPU\n",
       "    1302\n",
       "Name: count, dtype: int64"
      ]
     },
     "execution_count": 57,
     "metadata": {},
     "output_type": "execute_result"
    }
   ],
   "source": [
    "n=df['GPU'].str.split('',n=1,expand=True)\n",
    "df['GPU']=n[0]\n",
    "df['GPU'].value_counts()"
   ]
  },
  {
   "cell_type": "code",
   "execution_count": 58,
   "id": "9fa7f121",
   "metadata": {
    "execution": {
     "iopub.execute_input": "2024-04-09T07:41:29.642302Z",
     "iopub.status.busy": "2024-04-09T07:41:29.641824Z",
     "iopub.status.idle": "2024-04-09T07:41:29.648057Z",
     "shell.execute_reply": "2024-04-09T07:41:29.646917Z"
    },
    "papermill": {
     "duration": 0.05246,
     "end_time": "2024-04-09T07:41:29.650394",
     "exception": false,
     "start_time": "2024-04-09T07:41:29.597934",
     "status": "completed"
    },
    "tags": []
   },
   "outputs": [],
   "source": [
    "lr=LabelEncoder()\n",
    "df['GPU']=lr.fit_transform(df['GPU'])"
   ]
  },
  {
   "cell_type": "code",
   "execution_count": 59,
   "id": "d0623e3b",
   "metadata": {
    "execution": {
     "iopub.execute_input": "2024-04-09T07:41:29.734234Z",
     "iopub.status.busy": "2024-04-09T07:41:29.733781Z",
     "iopub.status.idle": "2024-04-09T07:41:29.744634Z",
     "shell.execute_reply": "2024-04-09T07:41:29.743112Z"
    },
    "papermill": {
     "duration": 0.055628,
     "end_time": "2024-04-09T07:41:29.747164",
     "exception": false,
     "start_time": "2024-04-09T07:41:29.691536",
     "status": "completed"
    },
    "tags": []
   },
   "outputs": [],
   "source": [
    "df['RAM']=df['RAM'].str.replace('GB',\"\")\n",
    "df['RAM']=df['RAM'].astype('int')                                "
   ]
  },
  {
   "cell_type": "code",
   "execution_count": 60,
   "id": "54cd176e",
   "metadata": {
    "execution": {
     "iopub.execute_input": "2024-04-09T07:41:29.832977Z",
     "iopub.status.busy": "2024-04-09T07:41:29.832171Z",
     "iopub.status.idle": "2024-04-09T07:41:29.848320Z",
     "shell.execute_reply": "2024-04-09T07:41:29.847136Z"
    },
    "papermill": {
     "duration": 0.061432,
     "end_time": "2024-04-09T07:41:29.851112",
     "exception": false,
     "start_time": "2024-04-09T07:41:29.789680",
     "status": "completed"
    },
    "tags": []
   },
   "outputs": [
    {
     "name": "stdout",
     "output_type": "stream",
     "text": [
      "<class 'pandas.core.frame.DataFrame'>\n",
      "Index: 1302 entries, 0 to 324\n",
      "Data columns (total 17 columns):\n",
      " #   Column           Non-Null Count  Dtype  \n",
      "---  ------           --------------  -----  \n",
      " 0   Manufacturer     1302 non-null   int64  \n",
      " 1   Category         1302 non-null   int64  \n",
      " 2   Screen_Size      1302 non-null   float64\n",
      " 3   CPU              1302 non-null   object \n",
      " 4   RAM              1302 non-null   int64  \n",
      " 5    Storage         1302 non-null   object \n",
      " 6   GPU              1302 non-null   int64  \n",
      " 7   OS               1302 non-null   object \n",
      " 8   OS_version       1302 non-null   object \n",
      " 9   Weight           1302 non-null   float64\n",
      " 10  Price            1302 non-null   float64\n",
      " 11  Touchscreen      1302 non-null   int32  \n",
      " 12  IPS_panel        1302 non-null   int32  \n",
      " 13  Retina_Display   1302 non-null   int32  \n",
      " 14  full_hd_display  1302 non-null   int32  \n",
      " 15  Quad_HD+         1302 non-null   int32  \n",
      " 16  PPI              1302 non-null   float64\n",
      "dtypes: float64(4), int32(5), int64(4), object(4)\n",
      "memory usage: 157.7+ KB\n"
     ]
    }
   ],
   "source": [
    "df.info()"
   ]
  },
  {
   "cell_type": "code",
   "execution_count": 61,
   "id": "fcde514d",
   "metadata": {
    "execution": {
     "iopub.execute_input": "2024-04-09T07:41:29.938717Z",
     "iopub.status.busy": "2024-04-09T07:41:29.938173Z",
     "iopub.status.idle": "2024-04-09T07:41:29.969385Z",
     "shell.execute_reply": "2024-04-09T07:41:29.968043Z"
    },
    "papermill": {
     "duration": 0.079279,
     "end_time": "2024-04-09T07:41:29.972015",
     "exception": false,
     "start_time": "2024-04-09T07:41:29.892736",
     "status": "completed"
    },
    "tags": []
   },
   "outputs": [
    {
     "data": {
      "text/html": [
       "<div>\n",
       "<style scoped>\n",
       "    .dataframe tbody tr th:only-of-type {\n",
       "        vertical-align: middle;\n",
       "    }\n",
       "\n",
       "    .dataframe tbody tr th {\n",
       "        vertical-align: top;\n",
       "    }\n",
       "\n",
       "    .dataframe thead th {\n",
       "        text-align: right;\n",
       "    }\n",
       "</style>\n",
       "<table border=\"1\" class=\"dataframe\">\n",
       "  <thead>\n",
       "    <tr style=\"text-align: right;\">\n",
       "      <th></th>\n",
       "      <th>Manufacturer</th>\n",
       "      <th>Category</th>\n",
       "      <th>Screen_Size</th>\n",
       "      <th>CPU</th>\n",
       "      <th>RAM</th>\n",
       "      <th>Storage</th>\n",
       "      <th>GPU</th>\n",
       "      <th>OS</th>\n",
       "      <th>OS_version</th>\n",
       "      <th>Weight</th>\n",
       "      <th>Price</th>\n",
       "      <th>Touchscreen</th>\n",
       "      <th>IPS_panel</th>\n",
       "      <th>Retina_Display</th>\n",
       "      <th>full_hd_display</th>\n",
       "      <th>Quad_HD+</th>\n",
       "      <th>PPI</th>\n",
       "    </tr>\n",
       "  </thead>\n",
       "  <tbody>\n",
       "    <tr>\n",
       "      <th>0</th>\n",
       "      <td>1</td>\n",
       "      <td>4</td>\n",
       "      <td>13.3</td>\n",
       "      <td>Intel Core i5 2.3GHz</td>\n",
       "      <td>8</td>\n",
       "      <td>128GB SSD</td>\n",
       "      <td>0</td>\n",
       "      <td>macOS</td>\n",
       "      <td>10</td>\n",
       "      <td>1.37</td>\n",
       "      <td>11912523.48</td>\n",
       "      <td>0</td>\n",
       "      <td>1</td>\n",
       "      <td>1</td>\n",
       "      <td>0</td>\n",
       "      <td>0</td>\n",
       "      <td>272.209528</td>\n",
       "    </tr>\n",
       "    <tr>\n",
       "      <th>1</th>\n",
       "      <td>1</td>\n",
       "      <td>4</td>\n",
       "      <td>13.3</td>\n",
       "      <td>Intel Core i5 1.8GHz</td>\n",
       "      <td>8</td>\n",
       "      <td>128GB Flash Storage</td>\n",
       "      <td>0</td>\n",
       "      <td>macOS</td>\n",
       "      <td>10</td>\n",
       "      <td>1.34</td>\n",
       "      <td>7993374.48</td>\n",
       "      <td>0</td>\n",
       "      <td>0</td>\n",
       "      <td>0</td>\n",
       "      <td>0</td>\n",
       "      <td>0</td>\n",
       "      <td>153.117859</td>\n",
       "    </tr>\n",
       "    <tr>\n",
       "      <th>2</th>\n",
       "      <td>7</td>\n",
       "      <td>3</td>\n",
       "      <td>15.6</td>\n",
       "      <td>Intel Core i5 7200U 2.5GHz</td>\n",
       "      <td>8</td>\n",
       "      <td>256GB SSD</td>\n",
       "      <td>0</td>\n",
       "      <td>No OS</td>\n",
       "      <td>10</td>\n",
       "      <td>1.86</td>\n",
       "      <td>5112900.00</td>\n",
       "      <td>0</td>\n",
       "      <td>0</td>\n",
       "      <td>0</td>\n",
       "      <td>1</td>\n",
       "      <td>0</td>\n",
       "      <td>174.057054</td>\n",
       "    </tr>\n",
       "    <tr>\n",
       "      <th>3</th>\n",
       "      <td>1</td>\n",
       "      <td>4</td>\n",
       "      <td>15.4</td>\n",
       "      <td>Intel Core i7 2.7GHz</td>\n",
       "      <td>16</td>\n",
       "      <td>512GB SSD</td>\n",
       "      <td>0</td>\n",
       "      <td>macOS</td>\n",
       "      <td>10</td>\n",
       "      <td>1.83</td>\n",
       "      <td>22563005.40</td>\n",
       "      <td>0</td>\n",
       "      <td>1</td>\n",
       "      <td>1</td>\n",
       "      <td>0</td>\n",
       "      <td>0</td>\n",
       "      <td>264.476303</td>\n",
       "    </tr>\n",
       "    <tr>\n",
       "      <th>4</th>\n",
       "      <td>1</td>\n",
       "      <td>4</td>\n",
       "      <td>13.3</td>\n",
       "      <td>Intel Core i5 3.1GHz</td>\n",
       "      <td>8</td>\n",
       "      <td>256GB SSD</td>\n",
       "      <td>0</td>\n",
       "      <td>macOS</td>\n",
       "      <td>10</td>\n",
       "      <td>1.37</td>\n",
       "      <td>16037611.20</td>\n",
       "      <td>0</td>\n",
       "      <td>1</td>\n",
       "      <td>1</td>\n",
       "      <td>0</td>\n",
       "      <td>0</td>\n",
       "      <td>272.209528</td>\n",
       "    </tr>\n",
       "    <tr>\n",
       "      <th>...</th>\n",
       "      <td>...</td>\n",
       "      <td>...</td>\n",
       "      <td>...</td>\n",
       "      <td>...</td>\n",
       "      <td>...</td>\n",
       "      <td>...</td>\n",
       "      <td>...</td>\n",
       "      <td>...</td>\n",
       "      <td>...</td>\n",
       "      <td>...</td>\n",
       "      <td>...</td>\n",
       "      <td>...</td>\n",
       "      <td>...</td>\n",
       "      <td>...</td>\n",
       "      <td>...</td>\n",
       "      <td>...</td>\n",
       "      <td>...</td>\n",
       "    </tr>\n",
       "    <tr>\n",
       "      <th>320</th>\n",
       "      <td>10</td>\n",
       "      <td>0</td>\n",
       "      <td>14.0</td>\n",
       "      <td>Intel Core i7 6500U 2.5GHz</td>\n",
       "      <td>4</td>\n",
       "      <td>128GB SSD</td>\n",
       "      <td>0</td>\n",
       "      <td>Windows</td>\n",
       "      <td>10</td>\n",
       "      <td>1.80</td>\n",
       "      <td>5673096.00</td>\n",
       "      <td>1</td>\n",
       "      <td>1</td>\n",
       "      <td>0</td>\n",
       "      <td>1</td>\n",
       "      <td>0</td>\n",
       "      <td>193.949289</td>\n",
       "    </tr>\n",
       "    <tr>\n",
       "      <th>321</th>\n",
       "      <td>10</td>\n",
       "      <td>0</td>\n",
       "      <td>13.3</td>\n",
       "      <td>Intel Core i7 6500U 2.5GHz</td>\n",
       "      <td>16</td>\n",
       "      <td>512GB SSD</td>\n",
       "      <td>0</td>\n",
       "      <td>Windows</td>\n",
       "      <td>10</td>\n",
       "      <td>1.30</td>\n",
       "      <td>13329108.00</td>\n",
       "      <td>1</td>\n",
       "      <td>1</td>\n",
       "      <td>0</td>\n",
       "      <td>0</td>\n",
       "      <td>1</td>\n",
       "      <td>340.261910</td>\n",
       "    </tr>\n",
       "    <tr>\n",
       "      <th>322</th>\n",
       "      <td>10</td>\n",
       "      <td>3</td>\n",
       "      <td>14.0</td>\n",
       "      <td>Intel Celeron Dual Core N3050 1.6GHz</td>\n",
       "      <td>2</td>\n",
       "      <td>64GB Flash Storage</td>\n",
       "      <td>0</td>\n",
       "      <td>Windows</td>\n",
       "      <td>10</td>\n",
       "      <td>1.50</td>\n",
       "      <td>2036268.00</td>\n",
       "      <td>0</td>\n",
       "      <td>0</td>\n",
       "      <td>0</td>\n",
       "      <td>0</td>\n",
       "      <td>0</td>\n",
       "      <td>137.986838</td>\n",
       "    </tr>\n",
       "    <tr>\n",
       "      <th>323</th>\n",
       "      <td>7</td>\n",
       "      <td>3</td>\n",
       "      <td>15.6</td>\n",
       "      <td>Intel Core i7 6500U 2.5GHz</td>\n",
       "      <td>6</td>\n",
       "      <td>1TB HDD</td>\n",
       "      <td>0</td>\n",
       "      <td>Windows</td>\n",
       "      <td>10</td>\n",
       "      <td>2.19</td>\n",
       "      <td>6793488.00</td>\n",
       "      <td>0</td>\n",
       "      <td>0</td>\n",
       "      <td>0</td>\n",
       "      <td>0</td>\n",
       "      <td>0</td>\n",
       "      <td>123.834341</td>\n",
       "    </tr>\n",
       "    <tr>\n",
       "      <th>324</th>\n",
       "      <td>2</td>\n",
       "      <td>3</td>\n",
       "      <td>15.6</td>\n",
       "      <td>Intel Celeron Dual Core N3050 1.6GHz</td>\n",
       "      <td>4</td>\n",
       "      <td>500GB HDD</td>\n",
       "      <td>0</td>\n",
       "      <td>Windows</td>\n",
       "      <td>10</td>\n",
       "      <td>2.20</td>\n",
       "      <td>3281148.00</td>\n",
       "      <td>0</td>\n",
       "      <td>0</td>\n",
       "      <td>0</td>\n",
       "      <td>0</td>\n",
       "      <td>0</td>\n",
       "      <td>123.834341</td>\n",
       "    </tr>\n",
       "  </tbody>\n",
       "</table>\n",
       "<p>1302 rows × 17 columns</p>\n",
       "</div>"
      ],
      "text/plain": [
       "     Manufacturer  Category  Screen_Size  \\\n",
       "0               1         4         13.3   \n",
       "1               1         4         13.3   \n",
       "2               7         3         15.6   \n",
       "3               1         4         15.4   \n",
       "4               1         4         13.3   \n",
       "..            ...       ...          ...   \n",
       "320            10         0         14.0   \n",
       "321            10         0         13.3   \n",
       "322            10         3         14.0   \n",
       "323             7         3         15.6   \n",
       "324             2         3         15.6   \n",
       "\n",
       "                                      CPU  RAM              Storage  GPU  \\\n",
       "0                    Intel Core i5 2.3GHz    8            128GB SSD    0   \n",
       "1                    Intel Core i5 1.8GHz    8  128GB Flash Storage    0   \n",
       "2              Intel Core i5 7200U 2.5GHz    8            256GB SSD    0   \n",
       "3                    Intel Core i7 2.7GHz   16            512GB SSD    0   \n",
       "4                    Intel Core i5 3.1GHz    8            256GB SSD    0   \n",
       "..                                    ...  ...                  ...  ...   \n",
       "320            Intel Core i7 6500U 2.5GHz    4            128GB SSD    0   \n",
       "321            Intel Core i7 6500U 2.5GHz   16            512GB SSD    0   \n",
       "322  Intel Celeron Dual Core N3050 1.6GHz    2   64GB Flash Storage    0   \n",
       "323            Intel Core i7 6500U 2.5GHz    6              1TB HDD    0   \n",
       "324  Intel Celeron Dual Core N3050 1.6GHz    4            500GB HDD    0   \n",
       "\n",
       "          OS OS_version  Weight        Price  Touchscreen  IPS_panel  \\\n",
       "0      macOS         10    1.37  11912523.48            0          1   \n",
       "1      macOS         10    1.34   7993374.48            0          0   \n",
       "2      No OS         10    1.86   5112900.00            0          0   \n",
       "3      macOS         10    1.83  22563005.40            0          1   \n",
       "4      macOS         10    1.37  16037611.20            0          1   \n",
       "..       ...        ...     ...          ...          ...        ...   \n",
       "320  Windows         10    1.80   5673096.00            1          1   \n",
       "321  Windows         10    1.30  13329108.00            1          1   \n",
       "322  Windows         10    1.50   2036268.00            0          0   \n",
       "323  Windows         10    2.19   6793488.00            0          0   \n",
       "324  Windows         10    2.20   3281148.00            0          0   \n",
       "\n",
       "     Retina_Display  full_hd_display  Quad_HD+         PPI  \n",
       "0                 1                0         0  272.209528  \n",
       "1                 0                0         0  153.117859  \n",
       "2                 0                1         0  174.057054  \n",
       "3                 1                0         0  264.476303  \n",
       "4                 1                0         0  272.209528  \n",
       "..              ...              ...       ...         ...  \n",
       "320               0                1         0  193.949289  \n",
       "321               0                0         1  340.261910  \n",
       "322               0                0         0  137.986838  \n",
       "323               0                0         0  123.834341  \n",
       "324               0                0         0  123.834341  \n",
       "\n",
       "[1302 rows x 17 columns]"
      ]
     },
     "execution_count": 61,
     "metadata": {},
     "output_type": "execute_result"
    }
   ],
   "source": [
    "df"
   ]
  },
  {
   "cell_type": "code",
   "execution_count": 62,
   "id": "51436a25",
   "metadata": {
    "execution": {
     "iopub.execute_input": "2024-04-09T07:41:30.059782Z",
     "iopub.status.busy": "2024-04-09T07:41:30.059324Z",
     "iopub.status.idle": "2024-04-09T07:41:30.070023Z",
     "shell.execute_reply": "2024-04-09T07:41:30.068764Z"
    },
    "papermill": {
     "duration": 0.057242,
     "end_time": "2024-04-09T07:41:30.072834",
     "exception": false,
     "start_time": "2024-04-09T07:41:30.015592",
     "status": "completed"
    },
    "tags": []
   },
   "outputs": [
    {
     "data": {
      "text/plain": [
       "OS_version\n",
       "10      1241\n",
       "7         45\n",
       "X          8\n",
       "10 S       8\n",
       "Name: count, dtype: int64"
      ]
     },
     "execution_count": 62,
     "metadata": {},
     "output_type": "execute_result"
    }
   ],
   "source": [
    "df['OS_version'].value_counts()"
   ]
  },
  {
   "cell_type": "code",
   "execution_count": 63,
   "id": "a796b519",
   "metadata": {
    "execution": {
     "iopub.execute_input": "2024-04-09T07:41:30.158974Z",
     "iopub.status.busy": "2024-04-09T07:41:30.158538Z",
     "iopub.status.idle": "2024-04-09T07:41:30.166104Z",
     "shell.execute_reply": "2024-04-09T07:41:30.164780Z"
    },
    "papermill": {
     "duration": 0.053341,
     "end_time": "2024-04-09T07:41:30.168596",
     "exception": false,
     "start_time": "2024-04-09T07:41:30.115255",
     "status": "completed"
    },
    "tags": []
   },
   "outputs": [],
   "source": [
    "df.drop(['OS_version'],axis=1,inplace=True)"
   ]
  },
  {
   "cell_type": "code",
   "execution_count": 64,
   "id": "a7f83d63",
   "metadata": {
    "execution": {
     "iopub.execute_input": "2024-04-09T07:41:30.255292Z",
     "iopub.status.busy": "2024-04-09T07:41:30.254897Z",
     "iopub.status.idle": "2024-04-09T07:41:30.260206Z",
     "shell.execute_reply": "2024-04-09T07:41:30.258817Z"
    },
    "papermill": {
     "duration": 0.052102,
     "end_time": "2024-04-09T07:41:30.262868",
     "exception": false,
     "start_time": "2024-04-09T07:41:30.210766",
     "status": "completed"
    },
    "tags": []
   },
   "outputs": [],
   "source": [
    "lr=LabelEncoder()"
   ]
  },
  {
   "cell_type": "code",
   "execution_count": 65,
   "id": "efa86c23",
   "metadata": {
    "execution": {
     "iopub.execute_input": "2024-04-09T07:41:30.349954Z",
     "iopub.status.busy": "2024-04-09T07:41:30.349541Z",
     "iopub.status.idle": "2024-04-09T07:41:30.356210Z",
     "shell.execute_reply": "2024-04-09T07:41:30.355098Z"
    },
    "papermill": {
     "duration": 0.052865,
     "end_time": "2024-04-09T07:41:30.358807",
     "exception": false,
     "start_time": "2024-04-09T07:41:30.305942",
     "status": "completed"
    },
    "tags": []
   },
   "outputs": [],
   "source": [
    "df['OS']=lr.fit_transform(df['OS'])"
   ]
  },
  {
   "cell_type": "code",
   "execution_count": 66,
   "id": "7fbdf8af",
   "metadata": {
    "execution": {
     "iopub.execute_input": "2024-04-09T07:41:30.446898Z",
     "iopub.status.busy": "2024-04-09T07:41:30.446314Z",
     "iopub.status.idle": "2024-04-09T07:41:30.455868Z",
     "shell.execute_reply": "2024-04-09T07:41:30.454491Z"
    },
    "papermill": {
     "duration": 0.056391,
     "end_time": "2024-04-09T07:41:30.458328",
     "exception": false,
     "start_time": "2024-04-09T07:41:30.401937",
     "status": "completed"
    },
    "tags": []
   },
   "outputs": [],
   "source": [
    "df['Prod_Name'] = df['CPU'].apply({lambda x:\" \".join(x.split()[0:3])})\n",
    "# lp_data\n"
   ]
  },
  {
   "cell_type": "code",
   "execution_count": 67,
   "id": "0a6bacd5",
   "metadata": {
    "execution": {
     "iopub.execute_input": "2024-04-09T07:41:30.546725Z",
     "iopub.status.busy": "2024-04-09T07:41:30.546305Z",
     "iopub.status.idle": "2024-04-09T07:41:30.556470Z",
     "shell.execute_reply": "2024-04-09T07:41:30.555105Z"
    },
    "papermill": {
     "duration": 0.058936,
     "end_time": "2024-04-09T07:41:30.559020",
     "exception": false,
     "start_time": "2024-04-09T07:41:30.500084",
     "status": "completed"
    },
    "tags": []
   },
   "outputs": [
    {
     "data": {
      "text/plain": [
       "0         Intel Core i5\n",
       "1         Intel Core i5\n",
       "2         Intel Core i5\n",
       "3         Intel Core i7\n",
       "4         Intel Core i5\n",
       "5    AMD A9-Series 9420\n",
       "6         Intel Core i7\n",
       "7         Intel Core i5\n",
       "8         Intel Core i7\n",
       "9         Intel Core i5\n",
       "Name: Prod_Name, dtype: object"
      ]
     },
     "execution_count": 67,
     "metadata": {},
     "output_type": "execute_result"
    }
   ],
   "source": [
    "df['Prod_Name'].head(10)"
   ]
  },
  {
   "cell_type": "code",
   "execution_count": 68,
   "id": "d82b82b7",
   "metadata": {
    "execution": {
     "iopub.execute_input": "2024-04-09T07:41:30.650195Z",
     "iopub.status.busy": "2024-04-09T07:41:30.648676Z",
     "iopub.status.idle": "2024-04-09T07:41:30.655682Z",
     "shell.execute_reply": "2024-04-09T07:41:30.654867Z"
    },
    "papermill": {
     "duration": 0.05531,
     "end_time": "2024-04-09T07:41:30.658187",
     "exception": false,
     "start_time": "2024-04-09T07:41:30.602877",
     "status": "completed"
    },
    "tags": []
   },
   "outputs": [],
   "source": [
    "df['CPU']=lr.fit_transform(df['Prod_Name'])"
   ]
  },
  {
   "cell_type": "code",
   "execution_count": 69,
   "id": "54ce8375",
   "metadata": {
    "execution": {
     "iopub.execute_input": "2024-04-09T07:41:30.746430Z",
     "iopub.status.busy": "2024-04-09T07:41:30.746028Z",
     "iopub.status.idle": "2024-04-09T07:41:30.756098Z",
     "shell.execute_reply": "2024-04-09T07:41:30.754884Z"
    },
    "papermill": {
     "duration": 0.057477,
     "end_time": "2024-04-09T07:41:30.758593",
     "exception": false,
     "start_time": "2024-04-09T07:41:30.701116",
     "status": "completed"
    },
    "tags": []
   },
   "outputs": [
    {
     "data": {
      "text/plain": [
       "Prod_Name\n",
       "Intel Core i7               526\n",
       "Intel Core i5               423\n",
       "Intel Core i3               136\n",
       "Intel Celeron Dual           80\n",
       "Intel Pentium Quad           27\n",
       "Intel Core M                 19\n",
       "AMD A9-Series 9420           12\n",
       "Intel Celeron Quad            8\n",
       "AMD A6-Series 9220            8\n",
       "AMD A12-Series 9720P          7\n",
       "Intel Atom x5-Z8350           5\n",
       "AMD A8-Series 7410            4\n",
       "Intel Atom x5-Z8550           4\n",
       "Intel Pentium Dual            3\n",
       "AMD A9-Series 9410            3\n",
       "AMD Ryzen 1700                3\n",
       "AMD A9-Series A9-9420         2\n",
       "AMD A10-Series 9620P          2\n",
       "Intel Atom X5-Z8350           2\n",
       "AMD E-Series E2-9000e         2\n",
       "Intel Xeon E3-1535M           2\n",
       "Intel Xeon E3-1505M           2\n",
       "AMD E-Series 7110             2\n",
       "AMD A10-Series 9600P          2\n",
       "AMD A6-Series A6-9220         2\n",
       "AMD A10-Series A10-9620P      2\n",
       "AMD Ryzen 1600                1\n",
       "Intel Atom x5-Z8300           1\n",
       "AMD E-Series E2-6110          1\n",
       "AMD FX 9830P                  1\n",
       "AMD E-Series E2-9000          1\n",
       "AMD A6-Series 7310            1\n",
       "Intel Atom Z8350              1\n",
       "AMD A12-Series 9700P          1\n",
       "AMD A4-Series 7210            1\n",
       "AMD FX 8800P                  1\n",
       "AMD E-Series 9000e            1\n",
       "Samsung Cortex A72&A53        1\n",
       "AMD E-Series 9000             1\n",
       "AMD E-Series 6110             1\n",
       "Name: count, dtype: int64"
      ]
     },
     "execution_count": 69,
     "metadata": {},
     "output_type": "execute_result"
    }
   ],
   "source": [
    "df['Prod_Name'].value_counts()"
   ]
  },
  {
   "cell_type": "code",
   "execution_count": 70,
   "id": "bfbfc5db",
   "metadata": {
    "execution": {
     "iopub.execute_input": "2024-04-09T07:41:30.847402Z",
     "iopub.status.busy": "2024-04-09T07:41:30.845392Z",
     "iopub.status.idle": "2024-04-09T07:41:30.862602Z",
     "shell.execute_reply": "2024-04-09T07:41:30.861078Z"
    },
    "papermill": {
     "duration": 0.063762,
     "end_time": "2024-04-09T07:41:30.865006",
     "exception": false,
     "start_time": "2024-04-09T07:41:30.801244",
     "status": "completed"
    },
    "tags": []
   },
   "outputs": [
    {
     "name": "stdout",
     "output_type": "stream",
     "text": [
      "<class 'pandas.core.frame.DataFrame'>\n",
      "Index: 1302 entries, 0 to 324\n",
      "Data columns (total 17 columns):\n",
      " #   Column           Non-Null Count  Dtype  \n",
      "---  ------           --------------  -----  \n",
      " 0   Manufacturer     1302 non-null   int64  \n",
      " 1   Category         1302 non-null   int64  \n",
      " 2   Screen_Size      1302 non-null   float64\n",
      " 3   CPU              1302 non-null   int64  \n",
      " 4   RAM              1302 non-null   int64  \n",
      " 5    Storage         1302 non-null   object \n",
      " 6   GPU              1302 non-null   int64  \n",
      " 7   OS               1302 non-null   int64  \n",
      " 8   Weight           1302 non-null   float64\n",
      " 9   Price            1302 non-null   float64\n",
      " 10  Touchscreen      1302 non-null   int32  \n",
      " 11  IPS_panel        1302 non-null   int32  \n",
      " 12  Retina_Display   1302 non-null   int32  \n",
      " 13  full_hd_display  1302 non-null   int32  \n",
      " 14  Quad_HD+         1302 non-null   int32  \n",
      " 15  PPI              1302 non-null   float64\n",
      " 16  Prod_Name        1302 non-null   object \n",
      "dtypes: float64(4), int32(5), int64(6), object(2)\n",
      "memory usage: 157.7+ KB\n"
     ]
    }
   ],
   "source": [
    "df.info()"
   ]
  },
  {
   "cell_type": "code",
   "execution_count": 71,
   "id": "30226b1d",
   "metadata": {
    "execution": {
     "iopub.execute_input": "2024-04-09T07:41:30.952184Z",
     "iopub.status.busy": "2024-04-09T07:41:30.951724Z",
     "iopub.status.idle": "2024-04-09T07:41:30.963716Z",
     "shell.execute_reply": "2024-04-09T07:41:30.962339Z"
    },
    "papermill": {
     "duration": 0.059444,
     "end_time": "2024-04-09T07:41:30.966657",
     "exception": false,
     "start_time": "2024-04-09T07:41:30.907213",
     "status": "completed"
    },
    "tags": []
   },
   "outputs": [
    {
     "data": {
      "text/plain": [
       " Storage\n",
       "256GB SSD                        412\n",
       "1TB HDD                          224\n",
       "500GB HDD                        132\n",
       "512GB SSD                        118\n",
       "128GB SSD +  1TB HDD              94\n",
       "128GB SSD                         76\n",
       "256GB SSD +  1TB HDD              73\n",
       "32GB Flash Storage                38\n",
       "2TB HDD                           16\n",
       "64GB Flash Storage                15\n",
       "512GB SSD +  1TB HDD              14\n",
       "1TB SSD                           14\n",
       "256GB SSD +  2TB HDD              10\n",
       "1TB Hybrid                         9\n",
       "256GB Flash Storage                8\n",
       "16GB Flash Storage                 7\n",
       "32GB SSD                           6\n",
       "1GB SSD                            5\n",
       "128GB Flash Storage                4\n",
       "16GB SSD                           3\n",
       "512GB Flash Storage                2\n",
       "1TB SSD +  1TB HDD                 2\n",
       "512GB SSD +  2TB HDD               2\n",
       "256GB SSD +  500GB HDD             2\n",
       "128GB SSD +  2TB HDD               2\n",
       "256GB SSD +  256GB SSD             2\n",
       "512GB SSD +  256GB SSD             1\n",
       "512GB SSD +  512GB SSD             1\n",
       "64GB Flash Storage +  1TB HDD      1\n",
       "1TB HDD +  1TB HDD                 1\n",
       "32GB HDD                           1\n",
       "64GB SSD                           1\n",
       "128GB HDD                          1\n",
       "240GB SSD                          1\n",
       "8GB SSD                            1\n",
       "508GB Hybrid                       1\n",
       "512GB SSD +  1TB Hybrid            1\n",
       "256GB SSD +  1TB Hybrid            1\n",
       "Name: count, dtype: int64"
      ]
     },
     "execution_count": 71,
     "metadata": {},
     "output_type": "execute_result"
    }
   ],
   "source": [
    "df[' Storage'].value_counts()"
   ]
  },
  {
   "cell_type": "code",
   "execution_count": 72,
   "id": "6319d0fd",
   "metadata": {
    "execution": {
     "iopub.execute_input": "2024-04-09T07:41:31.057972Z",
     "iopub.status.busy": "2024-04-09T07:41:31.057546Z",
     "iopub.status.idle": "2024-04-09T07:41:31.071419Z",
     "shell.execute_reply": "2024-04-09T07:41:31.070171Z"
    },
    "papermill": {
     "duration": 0.061628,
     "end_time": "2024-04-09T07:41:31.074008",
     "exception": false,
     "start_time": "2024-04-09T07:41:31.012380",
     "status": "completed"
    },
    "tags": []
   },
   "outputs": [],
   "source": [
    "df[' Storage']=df[' Storage'].str.replace('GB','')\n",
    "df[' Storage']=df[' Storage'].str.replace('TB','000')\n",
    "first=df[' Storage'].str.split(\"+\",n=1,expand=True)\n"
   ]
  },
  {
   "cell_type": "code",
   "execution_count": 73,
   "id": "019b21bc",
   "metadata": {
    "execution": {
     "iopub.execute_input": "2024-04-09T07:41:31.163264Z",
     "iopub.status.busy": "2024-04-09T07:41:31.162843Z",
     "iopub.status.idle": "2024-04-09T07:41:31.170290Z",
     "shell.execute_reply": "2024-04-09T07:41:31.168901Z"
    },
    "papermill": {
     "duration": 0.054995,
     "end_time": "2024-04-09T07:41:31.172652",
     "exception": false,
     "start_time": "2024-04-09T07:41:31.117657",
     "status": "completed"
    },
    "tags": []
   },
   "outputs": [],
   "source": [
    "df['part1']=first[0]\n",
    "df['part2']=first[1]"
   ]
  },
  {
   "cell_type": "code",
   "execution_count": 74,
   "id": "d3f0be34",
   "metadata": {
    "execution": {
     "iopub.execute_input": "2024-04-09T07:41:31.260784Z",
     "iopub.status.busy": "2024-04-09T07:41:31.260343Z",
     "iopub.status.idle": "2024-04-09T07:41:31.267713Z",
     "shell.execute_reply": "2024-04-09T07:41:31.266864Z"
    },
    "papermill": {
     "duration": 0.054995,
     "end_time": "2024-04-09T07:41:31.270045",
     "exception": false,
     "start_time": "2024-04-09T07:41:31.215050",
     "status": "completed"
    },
    "tags": []
   },
   "outputs": [],
   "source": [
    "df['part1']=df['part1'].str.strip()\n",
    "df['part2'].fillna('0',inplace=True)"
   ]
  },
  {
   "cell_type": "code",
   "execution_count": 75,
   "id": "21069a45",
   "metadata": {
    "execution": {
     "iopub.execute_input": "2024-04-09T07:41:31.357941Z",
     "iopub.status.busy": "2024-04-09T07:41:31.357503Z",
     "iopub.status.idle": "2024-04-09T07:41:31.366307Z",
     "shell.execute_reply": "2024-04-09T07:41:31.365363Z"
    },
    "papermill": {
     "duration": 0.055432,
     "end_time": "2024-04-09T07:41:31.368518",
     "exception": false,
     "start_time": "2024-04-09T07:41:31.313086",
     "status": "completed"
    },
    "tags": []
   },
   "outputs": [
    {
     "data": {
      "text/plain": [
       "part1\n",
       "256 SSD              500\n",
       "1000 HDD             225\n",
       "128 SSD              172\n",
       "512 SSD              137\n",
       "500 HDD              132\n",
       "32 Flash Storage      38\n",
       "64 Flash Storage      16\n",
       "2000 HDD              16\n",
       "1000 SSD              16\n",
       "1000 Hybrid            9\n",
       "256 Flash Storage      8\n",
       "16 Flash Storage       7\n",
       "32 SSD                 6\n",
       "1 SSD                  5\n",
       "128 Flash Storage      4\n",
       "16 SSD                 3\n",
       "512 Flash Storage      2\n",
       "240 SSD                1\n",
       "8 SSD                  1\n",
       "64 SSD                 1\n",
       "128 HDD                1\n",
       "32 HDD                 1\n",
       "508 Hybrid             1\n",
       "Name: count, dtype: int64"
      ]
     },
     "execution_count": 75,
     "metadata": {},
     "output_type": "execute_result"
    }
   ],
   "source": [
    "df['part1'].value_counts()"
   ]
  },
  {
   "cell_type": "code",
   "execution_count": 76,
   "id": "8654c5f4",
   "metadata": {
    "execution": {
     "iopub.execute_input": "2024-04-09T07:41:31.456069Z",
     "iopub.status.busy": "2024-04-09T07:41:31.455406Z",
     "iopub.status.idle": "2024-04-09T07:41:31.465003Z",
     "shell.execute_reply": "2024-04-09T07:41:31.463758Z"
    },
    "papermill": {
     "duration": 0.056389,
     "end_time": "2024-04-09T07:41:31.467349",
     "exception": false,
     "start_time": "2024-04-09T07:41:31.410960",
     "status": "completed"
    },
    "tags": []
   },
   "outputs": [
    {
     "data": {
      "text/plain": [
       "part2\n",
       "0                1095\n",
       "  1000 HDD        185\n",
       "  2000 HDD         14\n",
       "  256 SSD           3\n",
       "  500 HDD           2\n",
       "  1000 Hybrid       2\n",
       "  512 SSD           1\n",
       "Name: count, dtype: int64"
      ]
     },
     "execution_count": 76,
     "metadata": {},
     "output_type": "execute_result"
    }
   ],
   "source": [
    "df['part2'].value_counts()"
   ]
  },
  {
   "cell_type": "code",
   "execution_count": 77,
   "id": "c04014ca",
   "metadata": {
    "execution": {
     "iopub.execute_input": "2024-04-09T07:41:31.555375Z",
     "iopub.status.busy": "2024-04-09T07:41:31.554953Z",
     "iopub.status.idle": "2024-04-09T07:41:31.562769Z",
     "shell.execute_reply": "2024-04-09T07:41:31.561684Z"
    },
    "papermill": {
     "duration": 0.053967,
     "end_time": "2024-04-09T07:41:31.565249",
     "exception": false,
     "start_time": "2024-04-09T07:41:31.511282",
     "status": "completed"
    },
    "tags": []
   },
   "outputs": [
    {
     "data": {
      "text/plain": [
       "0"
      ]
     },
     "execution_count": 77,
     "metadata": {},
     "output_type": "execute_result"
    }
   ],
   "source": [
    "df['part2'].isnull().sum()"
   ]
  },
  {
   "cell_type": "code",
   "execution_count": 78,
   "id": "a95801f2",
   "metadata": {
    "execution": {
     "iopub.execute_input": "2024-04-09T07:41:31.652780Z",
     "iopub.status.busy": "2024-04-09T07:41:31.652249Z",
     "iopub.status.idle": "2024-04-09T07:41:31.665593Z",
     "shell.execute_reply": "2024-04-09T07:41:31.663673Z"
    },
    "papermill": {
     "duration": 0.060554,
     "end_time": "2024-04-09T07:41:31.668842",
     "exception": false,
     "start_time": "2024-04-09T07:41:31.608288",
     "status": "completed"
    },
    "tags": []
   },
   "outputs": [],
   "source": [
    "df[\" Storage1_SSD\"]=df[\"part1\"].apply(lambda x:1 if \"SSD\" in x else 0)\n",
    "df[\" Storage1_HDD\"]=df[\"part1\"].apply(lambda x:1 if \"HDD\" in x else 0)"
   ]
  },
  {
   "cell_type": "code",
   "execution_count": 79,
   "id": "87bc651f",
   "metadata": {
    "execution": {
     "iopub.execute_input": "2024-04-09T07:41:31.761379Z",
     "iopub.status.busy": "2024-04-09T07:41:31.760952Z",
     "iopub.status.idle": "2024-04-09T07:41:31.771580Z",
     "shell.execute_reply": "2024-04-09T07:41:31.770149Z"
    },
    "papermill": {
     "duration": 0.060111,
     "end_time": "2024-04-09T07:41:31.775354",
     "exception": false,
     "start_time": "2024-04-09T07:41:31.715243",
     "status": "completed"
    },
    "tags": []
   },
   "outputs": [],
   "source": [
    "df[\"Storage1_Flash_Storage\"]=df[\"part1\"].apply(lambda x: 1 if \"Flash Storage\" in x else 0)\n",
    "df[\"Storage1_Hybrid_Storage\"]=df[\"part1\"].apply(lambda x: 1 if \"Hybrid\" in x else 0)"
   ]
  },
  {
   "cell_type": "code",
   "execution_count": 80,
   "id": "a87808ae",
   "metadata": {
    "execution": {
     "iopub.execute_input": "2024-04-09T07:41:31.883163Z",
     "iopub.status.busy": "2024-04-09T07:41:31.882717Z",
     "iopub.status.idle": "2024-04-09T07:41:31.898347Z",
     "shell.execute_reply": "2024-04-09T07:41:31.896976Z"
    },
    "papermill": {
     "duration": 0.068884,
     "end_time": "2024-04-09T07:41:31.900831",
     "exception": false,
     "start_time": "2024-04-09T07:41:31.831947",
     "status": "completed"
    },
    "tags": []
   },
   "outputs": [],
   "source": [
    "df[\" Storage2_SSD\"]=df[\"part1\"].apply(lambda x:1 if \"SSD\" in x else 0)\n",
    "df[\" Storage2_HDD\"]=df[\"part1\"].apply(lambda x:1 if \"HDD\" in x else 0)\n",
    "df[\"Storage2_Flash_Storage\"]=df[\"part1\"].apply(lambda x: 1 if \"Flash Storage\" in x else 0)\n",
    "df[\"Storage2_Hybrid_Storage\"]=df[\"part1\"].apply(lambda x: 1 if \"Hybrid\" in x else 0)"
   ]
  },
  {
   "cell_type": "code",
   "execution_count": 81,
   "id": "97ecaba5",
   "metadata": {
    "execution": {
     "iopub.execute_input": "2024-04-09T07:41:31.988617Z",
     "iopub.status.busy": "2024-04-09T07:41:31.988197Z",
     "iopub.status.idle": "2024-04-09T07:41:31.998019Z",
     "shell.execute_reply": "2024-04-09T07:41:31.996839Z"
    },
    "papermill": {
     "duration": 0.05676,
     "end_time": "2024-04-09T07:41:32.000522",
     "exception": false,
     "start_time": "2024-04-09T07:41:31.943762",
     "status": "completed"
    },
    "tags": []
   },
   "outputs": [],
   "source": [
    "df['part1']=df['part1'].str.replace(r'\\D+','',regex=True).astype(int)"
   ]
  },
  {
   "cell_type": "code",
   "execution_count": 82,
   "id": "d63f0157",
   "metadata": {
    "execution": {
     "iopub.execute_input": "2024-04-09T07:41:32.092320Z",
     "iopub.status.busy": "2024-04-09T07:41:32.091877Z",
     "iopub.status.idle": "2024-04-09T07:41:32.103667Z",
     "shell.execute_reply": "2024-04-09T07:41:32.102499Z"
    },
    "papermill": {
     "duration": 0.059932,
     "end_time": "2024-04-09T07:41:32.105945",
     "exception": false,
     "start_time": "2024-04-09T07:41:32.046013",
     "status": "completed"
    },
    "tags": []
   },
   "outputs": [
    {
     "data": {
      "text/plain": [
       "dtype('int64')"
      ]
     },
     "execution_count": 82,
     "metadata": {},
     "output_type": "execute_result"
    }
   ],
   "source": [
    "df['part2']=df['part2'].str.replace(r'\\D+','',regex=True).astype(int)\n",
    "df['part1'].dtype                                    "
   ]
  },
  {
   "cell_type": "code",
   "execution_count": 83,
   "id": "ce488db2",
   "metadata": {
    "execution": {
     "iopub.execute_input": "2024-04-09T07:41:32.195752Z",
     "iopub.status.busy": "2024-04-09T07:41:32.194455Z",
     "iopub.status.idle": "2024-04-09T07:41:32.207319Z",
     "shell.execute_reply": "2024-04-09T07:41:32.206275Z"
    },
    "papermill": {
     "duration": 0.059963,
     "end_time": "2024-04-09T07:41:32.209993",
     "exception": false,
     "start_time": "2024-04-09T07:41:32.150030",
     "status": "completed"
    },
    "tags": []
   },
   "outputs": [],
   "source": [
    "df[\"SSD\"]=(df['part1']*df[' Storage1_SSD'])+(df['part2']*df[' Storage2_SSD'])\n",
    "df[\"HDD\"]=(df['part1']*df[' Storage1_HDD'])+(df['part2']*df[' Storage2_HDD'])\n",
    "df['Flash_Storage']=(df['part1']*df['Storage1_Flash_Storage'])+(df['part2']*df['Storage2_Flash_Storage'])\n",
    "df['Hybrid_Storage']=(df['part1']*df['Storage1_Hybrid_Storage'])+(df['part2']*df['Storage2_Hybrid_Storage'])\n"
   ]
  },
  {
   "cell_type": "code",
   "execution_count": 84,
   "id": "f3d8dcbf",
   "metadata": {
    "execution": {
     "iopub.execute_input": "2024-04-09T07:41:32.300525Z",
     "iopub.status.busy": "2024-04-09T07:41:32.299475Z",
     "iopub.status.idle": "2024-04-09T07:41:32.308083Z",
     "shell.execute_reply": "2024-04-09T07:41:32.306734Z"
    },
    "papermill": {
     "duration": 0.055824,
     "end_time": "2024-04-09T07:41:32.310557",
     "exception": false,
     "start_time": "2024-04-09T07:41:32.254733",
     "status": "completed"
    },
    "tags": []
   },
   "outputs": [],
   "source": [
    "df.drop(['part1','part2',' Storage1_SSD',' Storage2_SSD',' Storage1_HDD',' Storage2_HDD','Storage1_Flash_Storage','Storage2_Flash_Storage','Storage1_Hybrid_Storage','Storage2_Hybrid_Storage'],axis=1,inplace=True)"
   ]
  },
  {
   "cell_type": "code",
   "execution_count": 85,
   "id": "f347042d",
   "metadata": {
    "execution": {
     "iopub.execute_input": "2024-04-09T07:41:32.399964Z",
     "iopub.status.busy": "2024-04-09T07:41:32.399277Z",
     "iopub.status.idle": "2024-04-09T07:41:32.406121Z",
     "shell.execute_reply": "2024-04-09T07:41:32.405111Z"
    },
    "papermill": {
     "duration": 0.055181,
     "end_time": "2024-04-09T07:41:32.408865",
     "exception": false,
     "start_time": "2024-04-09T07:41:32.353684",
     "status": "completed"
    },
    "tags": []
   },
   "outputs": [],
   "source": [
    "df.drop(' Storage',axis=1,inplace=True)"
   ]
  },
  {
   "cell_type": "code",
   "execution_count": 86,
   "id": "061b8676",
   "metadata": {
    "execution": {
     "iopub.execute_input": "2024-04-09T07:41:32.498421Z",
     "iopub.status.busy": "2024-04-09T07:41:32.497761Z",
     "iopub.status.idle": "2024-04-09T07:41:32.505198Z",
     "shell.execute_reply": "2024-04-09T07:41:32.504333Z"
    },
    "papermill": {
     "duration": 0.054227,
     "end_time": "2024-04-09T07:41:32.507457",
     "exception": false,
     "start_time": "2024-04-09T07:41:32.453230",
     "status": "completed"
    },
    "tags": []
   },
   "outputs": [
    {
     "data": {
      "text/plain": [
       "Hybrid_Storage\n",
       "0       1292\n",
       "1000       9\n",
       "508        1\n",
       "Name: count, dtype: int64"
      ]
     },
     "execution_count": 86,
     "metadata": {},
     "output_type": "execute_result"
    }
   ],
   "source": [
    "df['Hybrid_Storage'].value_counts()"
   ]
  },
  {
   "cell_type": "code",
   "execution_count": 87,
   "id": "48b9cbd9",
   "metadata": {
    "execution": {
     "iopub.execute_input": "2024-04-09T07:41:32.597291Z",
     "iopub.status.busy": "2024-04-09T07:41:32.596892Z",
     "iopub.status.idle": "2024-04-09T07:41:32.614847Z",
     "shell.execute_reply": "2024-04-09T07:41:32.613466Z"
    },
    "papermill": {
     "duration": 0.065663,
     "end_time": "2024-04-09T07:41:32.617401",
     "exception": false,
     "start_time": "2024-04-09T07:41:32.551738",
     "status": "completed"
    },
    "tags": []
   },
   "outputs": [
    {
     "name": "stdout",
     "output_type": "stream",
     "text": [
      "<class 'pandas.core.frame.DataFrame'>\n",
      "Index: 1302 entries, 0 to 324\n",
      "Data columns (total 20 columns):\n",
      " #   Column           Non-Null Count  Dtype  \n",
      "---  ------           --------------  -----  \n",
      " 0   Manufacturer     1302 non-null   int64  \n",
      " 1   Category         1302 non-null   int64  \n",
      " 2   Screen_Size      1302 non-null   float64\n",
      " 3   CPU              1302 non-null   int64  \n",
      " 4   RAM              1302 non-null   int64  \n",
      " 5   GPU              1302 non-null   int64  \n",
      " 6   OS               1302 non-null   int64  \n",
      " 7   Weight           1302 non-null   float64\n",
      " 8   Price            1302 non-null   float64\n",
      " 9   Touchscreen      1302 non-null   int32  \n",
      " 10  IPS_panel        1302 non-null   int32  \n",
      " 11  Retina_Display   1302 non-null   int32  \n",
      " 12  full_hd_display  1302 non-null   int32  \n",
      " 13  Quad_HD+         1302 non-null   int32  \n",
      " 14  PPI              1302 non-null   float64\n",
      " 15  Prod_Name        1302 non-null   object \n",
      " 16  SSD              1302 non-null   int64  \n",
      " 17  HDD              1302 non-null   int64  \n",
      " 18  Flash_Storage    1302 non-null   int64  \n",
      " 19  Hybrid_Storage   1302 non-null   int64  \n",
      "dtypes: float64(4), int32(5), int64(10), object(1)\n",
      "memory usage: 188.2+ KB\n"
     ]
    }
   ],
   "source": [
    "df.info()"
   ]
  },
  {
   "cell_type": "code",
   "execution_count": 88,
   "id": "81e7e9fb",
   "metadata": {
    "execution": {
     "iopub.execute_input": "2024-04-09T07:41:32.710499Z",
     "iopub.status.busy": "2024-04-09T07:41:32.709819Z",
     "iopub.status.idle": "2024-04-09T07:41:32.719644Z",
     "shell.execute_reply": "2024-04-09T07:41:32.718573Z"
    },
    "papermill": {
     "duration": 0.060233,
     "end_time": "2024-04-09T07:41:32.722298",
     "exception": false,
     "start_time": "2024-04-09T07:41:32.662065",
     "status": "completed"
    },
    "tags": []
   },
   "outputs": [
    {
     "data": {
      "text/plain": [
       "Prod_Name\n",
       "Intel Core i7               526\n",
       "Intel Core i5               423\n",
       "Intel Core i3               136\n",
       "Intel Celeron Dual           80\n",
       "Intel Pentium Quad           27\n",
       "Intel Core M                 19\n",
       "AMD A9-Series 9420           12\n",
       "Intel Celeron Quad            8\n",
       "AMD A6-Series 9220            8\n",
       "AMD A12-Series 9720P          7\n",
       "Intel Atom x5-Z8350           5\n",
       "AMD A8-Series 7410            4\n",
       "Intel Atom x5-Z8550           4\n",
       "Intel Pentium Dual            3\n",
       "AMD A9-Series 9410            3\n",
       "AMD Ryzen 1700                3\n",
       "AMD A9-Series A9-9420         2\n",
       "AMD A10-Series 9620P          2\n",
       "Intel Atom X5-Z8350           2\n",
       "AMD E-Series E2-9000e         2\n",
       "Intel Xeon E3-1535M           2\n",
       "Intel Xeon E3-1505M           2\n",
       "AMD E-Series 7110             2\n",
       "AMD A10-Series 9600P          2\n",
       "AMD A6-Series A6-9220         2\n",
       "AMD A10-Series A10-9620P      2\n",
       "AMD Ryzen 1600                1\n",
       "Intel Atom x5-Z8300           1\n",
       "AMD E-Series E2-6110          1\n",
       "AMD FX 9830P                  1\n",
       "AMD E-Series E2-9000          1\n",
       "AMD A6-Series 7310            1\n",
       "Intel Atom Z8350              1\n",
       "AMD A12-Series 9700P          1\n",
       "AMD A4-Series 7210            1\n",
       "AMD FX 8800P                  1\n",
       "AMD E-Series 9000e            1\n",
       "Samsung Cortex A72&A53        1\n",
       "AMD E-Series 9000             1\n",
       "AMD E-Series 6110             1\n",
       "Name: count, dtype: int64"
      ]
     },
     "execution_count": 88,
     "metadata": {},
     "output_type": "execute_result"
    }
   ],
   "source": [
    "df['Prod_Name'].value_counts()"
   ]
  },
  {
   "cell_type": "code",
   "execution_count": 89,
   "id": "86327d3d",
   "metadata": {
    "execution": {
     "iopub.execute_input": "2024-04-09T07:41:32.814774Z",
     "iopub.status.busy": "2024-04-09T07:41:32.814093Z",
     "iopub.status.idle": "2024-04-09T07:41:32.821364Z",
     "shell.execute_reply": "2024-04-09T07:41:32.820365Z"
    },
    "papermill": {
     "duration": 0.055259,
     "end_time": "2024-04-09T07:41:32.823565",
     "exception": false,
     "start_time": "2024-04-09T07:41:32.768306",
     "status": "completed"
    },
    "tags": []
   },
   "outputs": [
    {
     "data": {
      "text/plain": [
       "array(['AMD A10-Series 9600P', 'AMD A10-Series 9620P',\n",
       "       'AMD A10-Series A10-9620P', 'AMD A12-Series 9700P',\n",
       "       'AMD A12-Series 9720P', 'AMD A4-Series 7210', 'AMD A6-Series 7310',\n",
       "       'AMD A6-Series 9220', 'AMD A6-Series A6-9220',\n",
       "       'AMD A8-Series 7410', 'AMD A9-Series 9410', 'AMD A9-Series 9420',\n",
       "       'AMD A9-Series A9-9420', 'AMD E-Series 6110', 'AMD E-Series 7110',\n",
       "       'AMD E-Series 9000', 'AMD E-Series 9000e', 'AMD E-Series E2-6110',\n",
       "       'AMD E-Series E2-9000', 'AMD E-Series E2-9000e', 'AMD FX 8800P',\n",
       "       'AMD FX 9830P', 'AMD Ryzen 1600', 'AMD Ryzen 1700',\n",
       "       'Intel Atom X5-Z8350', 'Intel Atom Z8350', 'Intel Atom x5-Z8300',\n",
       "       'Intel Atom x5-Z8350', 'Intel Atom x5-Z8550', 'Intel Celeron Dual',\n",
       "       'Intel Celeron Quad', 'Intel Core M', 'Intel Core i3',\n",
       "       'Intel Core i5', 'Intel Core i7', 'Intel Pentium Dual',\n",
       "       'Intel Pentium Quad', 'Intel Xeon E3-1505M', 'Intel Xeon E3-1535M',\n",
       "       'Samsung Cortex A72&A53'], dtype=object)"
      ]
     },
     "execution_count": 89,
     "metadata": {},
     "output_type": "execute_result"
    }
   ],
   "source": [
    "lr.classes_"
   ]
  },
  {
   "cell_type": "code",
   "execution_count": 90,
   "id": "fc1474e5",
   "metadata": {
    "execution": {
     "iopub.execute_input": "2024-04-09T07:41:32.915824Z",
     "iopub.status.busy": "2024-04-09T07:41:32.915049Z",
     "iopub.status.idle": "2024-04-09T07:41:32.920364Z",
     "shell.execute_reply": "2024-04-09T07:41:32.919482Z"
    },
    "papermill": {
     "duration": 0.054352,
     "end_time": "2024-04-09T07:41:32.922887",
     "exception": false,
     "start_time": "2024-04-09T07:41:32.868535",
     "status": "completed"
    },
    "tags": []
   },
   "outputs": [],
   "source": [
    "df['CPU']=df['CPU'].astype(\"float64\")"
   ]
  },
  {
   "cell_type": "code",
   "execution_count": 91,
   "id": "6563667d",
   "metadata": {
    "execution": {
     "iopub.execute_input": "2024-04-09T07:41:33.014155Z",
     "iopub.status.busy": "2024-04-09T07:41:33.013343Z",
     "iopub.status.idle": "2024-04-09T07:41:33.029518Z",
     "shell.execute_reply": "2024-04-09T07:41:33.028135Z"
    },
    "papermill": {
     "duration": 0.064887,
     "end_time": "2024-04-09T07:41:33.032292",
     "exception": false,
     "start_time": "2024-04-09T07:41:32.967405",
     "status": "completed"
    },
    "tags": []
   },
   "outputs": [
    {
     "name": "stdout",
     "output_type": "stream",
     "text": [
      "<class 'pandas.core.frame.DataFrame'>\n",
      "Index: 1302 entries, 0 to 324\n",
      "Data columns (total 20 columns):\n",
      " #   Column           Non-Null Count  Dtype  \n",
      "---  ------           --------------  -----  \n",
      " 0   Manufacturer     1302 non-null   int64  \n",
      " 1   Category         1302 non-null   int64  \n",
      " 2   Screen_Size      1302 non-null   float64\n",
      " 3   CPU              1302 non-null   float64\n",
      " 4   RAM              1302 non-null   int64  \n",
      " 5   GPU              1302 non-null   int64  \n",
      " 6   OS               1302 non-null   int64  \n",
      " 7   Weight           1302 non-null   float64\n",
      " 8   Price            1302 non-null   float64\n",
      " 9   Touchscreen      1302 non-null   int32  \n",
      " 10  IPS_panel        1302 non-null   int32  \n",
      " 11  Retina_Display   1302 non-null   int32  \n",
      " 12  full_hd_display  1302 non-null   int32  \n",
      " 13  Quad_HD+         1302 non-null   int32  \n",
      " 14  PPI              1302 non-null   float64\n",
      " 15  Prod_Name        1302 non-null   object \n",
      " 16  SSD              1302 non-null   int64  \n",
      " 17  HDD              1302 non-null   int64  \n",
      " 18  Flash_Storage    1302 non-null   int64  \n",
      " 19  Hybrid_Storage   1302 non-null   int64  \n",
      "dtypes: float64(5), int32(5), int64(9), object(1)\n",
      "memory usage: 188.2+ KB\n"
     ]
    }
   ],
   "source": [
    "df.info()"
   ]
  },
  {
   "cell_type": "code",
   "execution_count": 92,
   "id": "8df65dcc",
   "metadata": {
    "execution": {
     "iopub.execute_input": "2024-04-09T07:41:33.121915Z",
     "iopub.status.busy": "2024-04-09T07:41:33.121480Z",
     "iopub.status.idle": "2024-04-09T07:41:33.128388Z",
     "shell.execute_reply": "2024-04-09T07:41:33.127200Z"
    },
    "papermill": {
     "duration": 0.054984,
     "end_time": "2024-04-09T07:41:33.130672",
     "exception": false,
     "start_time": "2024-04-09T07:41:33.075688",
     "status": "completed"
    },
    "tags": []
   },
   "outputs": [],
   "source": [
    "df.drop(\"Prod_Name\",axis=1,inplace=True)"
   ]
  },
  {
   "cell_type": "code",
   "execution_count": 93,
   "id": "65eba65c",
   "metadata": {
    "execution": {
     "iopub.execute_input": "2024-04-09T07:41:33.221228Z",
     "iopub.status.busy": "2024-04-09T07:41:33.220538Z",
     "iopub.status.idle": "2024-04-09T07:41:33.990406Z",
     "shell.execute_reply": "2024-04-09T07:41:33.989089Z"
    },
    "papermill": {
     "duration": 0.818819,
     "end_time": "2024-04-09T07:41:33.993235",
     "exception": false,
     "start_time": "2024-04-09T07:41:33.174416",
     "status": "completed"
    },
    "tags": []
   },
   "outputs": [],
   "source": [
    "from sklearn.metrics import r2_score,mean_absolute_error\n",
    "from sklearn.linear_model import LinearRegression\n",
    "from sklearn.neighbors import KNeighborsRegressor\n",
    "from sklearn.tree import DecisionTreeRegressor\n",
    "from sklearn.ensemble import RandomForestRegressor,GradientBoostingRegressor,AdaBoostRegressor\n",
    "from sklearn.svm import SVR\n",
    "from xgboost import XGBRegressor\n",
    "from sklearn.model_selection import train_test_split"
   ]
  },
  {
   "cell_type": "code",
   "execution_count": 94,
   "id": "2e9ff26d",
   "metadata": {
    "execution": {
     "iopub.execute_input": "2024-04-09T07:41:34.085613Z",
     "iopub.status.busy": "2024-04-09T07:41:34.084711Z",
     "iopub.status.idle": "2024-04-09T07:41:34.096722Z",
     "shell.execute_reply": "2024-04-09T07:41:34.095466Z"
    },
    "papermill": {
     "duration": 0.061101,
     "end_time": "2024-04-09T07:41:34.099286",
     "exception": false,
     "start_time": "2024-04-09T07:41:34.038185",
     "status": "completed"
    },
    "tags": []
   },
   "outputs": [],
   "source": [
    "x=df.drop(\"Price\",axis=1)\n",
    "y=np.log(df[\"Price\"])\n",
    "\n",
    "x_train,x_test,y_train,y_test=train_test_split(x,y,test_size=0.15)"
   ]
  },
  {
   "cell_type": "code",
   "execution_count": 95,
   "id": "ea83c432",
   "metadata": {
    "execution": {
     "iopub.execute_input": "2024-04-09T07:41:34.191698Z",
     "iopub.status.busy": "2024-04-09T07:41:34.191274Z",
     "iopub.status.idle": "2024-04-09T07:41:34.197429Z",
     "shell.execute_reply": "2024-04-09T07:41:34.196454Z"
    },
    "papermill": {
     "duration": 0.054766,
     "end_time": "2024-04-09T07:41:34.199488",
     "exception": false,
     "start_time": "2024-04-09T07:41:34.144722",
     "status": "completed"
    },
    "tags": []
   },
   "outputs": [],
   "source": [
    "models={\n",
    "    \"LinearRegression\": LinearRegression(),\"RandomForest\":RandomForestRegressor(),\n",
    "    \"DecidionTree\":DecisionTreeRegressor(),\"xg\":XGBRegressor(),\"Ada\":AdaBoostRegressor(),\n",
    "    \"SVR\":SVR(),\"KNNR\":KNeighborsRegressor()\n",
    "}"
   ]
  },
  {
   "cell_type": "code",
   "execution_count": 96,
   "id": "06d75565",
   "metadata": {
    "execution": {
     "iopub.execute_input": "2024-04-09T07:41:34.291472Z",
     "iopub.status.busy": "2024-04-09T07:41:34.290404Z",
     "iopub.status.idle": "2024-04-09T07:41:35.406179Z",
     "shell.execute_reply": "2024-04-09T07:41:35.405266Z"
    },
    "papermill": {
     "duration": 1.163523,
     "end_time": "2024-04-09T07:41:35.408759",
     "exception": false,
     "start_time": "2024-04-09T07:41:34.245236",
     "status": "completed"
    },
    "tags": []
   },
   "outputs": [
    {
     "name": "stdout",
     "output_type": "stream",
     "text": [
      "Model: LinearRegression\n",
      "------------\n",
      "RMSE 0.5166830250332554\n",
      "R2 Score: 0.6954581367213057\n",
      "...............|\n",
      "\n",
      "Model: RandomForest\n",
      "------------\n",
      "RMSE 0.41595413170349543\n",
      "R2 Score: 0.8650506912458428\n",
      "...............|\n",
      "\n",
      "Model: DecidionTree\n",
      "------------\n",
      "RMSE 0.45557363032077597\n",
      "R2 Score: 0.7927254350139714\n",
      "...............|\n",
      "\n",
      "Model: xg\n",
      "------------\n",
      "RMSE 0.3968511152273483\n",
      "R2 Score: 0.8816541537988603\n",
      "...............|\n",
      "\n",
      "Model: Ada\n",
      "------------\n",
      "RMSE 0.4811475821481781\n",
      "R2 Score: 0.7923220005084917\n",
      "...............|\n",
      "\n",
      "Model: SVR\n",
      "------------\n",
      "RMSE 0.5410368918527759\n",
      "R2 Score: 0.6367005481672274\n",
      "...............|\n",
      "\n",
      "Model: KNNR\n",
      "------------\n",
      "RMSE 0.4820170285978836\n",
      "R2 Score: 0.7689079514543358\n",
      "...............|\n",
      "\n"
     ]
    }
   ],
   "source": [
    "for name,model in models.items():\n",
    "    model.fit(x_train,y_train)\n",
    "    p=model.predict(x_test)\n",
    "    print(\"Model:\",name)\n",
    "    print(\"------------\")\n",
    "    print(\"RMSE\",np.sqrt(mean_absolute_error(y_test,p)))\n",
    "    print(\"R2 Score:\",r2_score(y_test,p))\n",
    "    print(\"...............|\\n\")"
   ]
  },
  {
   "cell_type": "code",
   "execution_count": 97,
   "id": "d15a079e",
   "metadata": {
    "execution": {
     "iopub.execute_input": "2024-04-09T07:41:35.503349Z",
     "iopub.status.busy": "2024-04-09T07:41:35.502358Z",
     "iopub.status.idle": "2024-04-09T07:41:36.024469Z",
     "shell.execute_reply": "2024-04-09T07:41:36.022677Z"
    },
    "papermill": {
     "duration": 0.572965,
     "end_time": "2024-04-09T07:41:36.027464",
     "exception": false,
     "start_time": "2024-04-09T07:41:35.454499",
     "status": "completed"
    },
    "tags": []
   },
   "outputs": [
    {
     "name": "stdout",
     "output_type": "stream",
     "text": [
      "Model:\n",
      "------------\n",
      "RMSE 0.4166062854102528\n",
      "R2 Score: 0.8641138679884866\n",
      "...............|\n",
      "\n"
     ]
    }
   ],
   "source": [
    "model=RandomForestRegressor()\n",
    "model.fit(x_train,y_train)\n",
    "p=model.predict(x_test)\n",
    "print(\"Model:\")\n",
    "print(\"------------\")\n",
    "print(\"RMSE\",np.sqrt(mean_absolute_error(y_test,p)))\n",
    "print(\"R2 Score:\",r2_score(y_test,p))\n",
    "print(\"...............|\\n\")"
   ]
  },
  {
   "cell_type": "code",
   "execution_count": 98,
   "id": "9d59f3fe",
   "metadata": {
    "execution": {
     "iopub.execute_input": "2024-04-09T07:41:36.122999Z",
     "iopub.status.busy": "2024-04-09T07:41:36.122187Z",
     "iopub.status.idle": "2024-04-09T07:41:36.129331Z",
     "shell.execute_reply": "2024-04-09T07:41:36.128411Z"
    },
    "papermill": {
     "duration": 0.059729,
     "end_time": "2024-04-09T07:41:36.131836",
     "exception": false,
     "start_time": "2024-04-09T07:41:36.072107",
     "status": "completed"
    },
    "tags": []
   },
   "outputs": [],
   "source": [
    "from sklearn.model_selection import GridSearchCV\n",
    "rf= RandomForestRegressor() \n",
    "param_grid ={\n",
    "'max_depth': [80, 90, 100],\n",
    "'max_features' : [2,3],\n",
    "'min_samples_leaf':[3,4,5], 'min_samples_split':[8,10,12], 'n_estimators': [30, 50, 100, 200]\n",
    "}\n",
    "grid_search= GridSearchCV (estimator=rf, param_grid=param_grid,cv=5)"
   ]
  },
  {
   "cell_type": "code",
   "execution_count": 99,
   "id": "5e0052a3",
   "metadata": {
    "execution": {
     "iopub.execute_input": "2024-04-09T07:41:36.222405Z",
     "iopub.status.busy": "2024-04-09T07:41:36.221991Z",
     "iopub.status.idle": "2024-04-09T07:45:33.172192Z",
     "shell.execute_reply": "2024-04-09T07:45:33.171061Z"
    },
    "papermill": {
     "duration": 237.044825,
     "end_time": "2024-04-09T07:45:33.220532",
     "exception": false,
     "start_time": "2024-04-09T07:41:36.175707",
     "status": "completed"
    },
    "tags": []
   },
   "outputs": [
    {
     "name": "stdout",
     "output_type": "stream",
     "text": [
      "CPU times: user 3 µs, sys: 1e+03 ns, total: 4 µs\n",
      "Wall time: 8.58 µs\n"
     ]
    },
    {
     "data": {
      "text/html": [
       "<style>#sk-container-id-1 {color: black;background-color: white;}#sk-container-id-1 pre{padding: 0;}#sk-container-id-1 div.sk-toggleable {background-color: white;}#sk-container-id-1 label.sk-toggleable__label {cursor: pointer;display: block;width: 100%;margin-bottom: 0;padding: 0.3em;box-sizing: border-box;text-align: center;}#sk-container-id-1 label.sk-toggleable__label-arrow:before {content: \"▸\";float: left;margin-right: 0.25em;color: #696969;}#sk-container-id-1 label.sk-toggleable__label-arrow:hover:before {color: black;}#sk-container-id-1 div.sk-estimator:hover label.sk-toggleable__label-arrow:before {color: black;}#sk-container-id-1 div.sk-toggleable__content {max-height: 0;max-width: 0;overflow: hidden;text-align: left;background-color: #f0f8ff;}#sk-container-id-1 div.sk-toggleable__content pre {margin: 0.2em;color: black;border-radius: 0.25em;background-color: #f0f8ff;}#sk-container-id-1 input.sk-toggleable__control:checked~div.sk-toggleable__content {max-height: 200px;max-width: 100%;overflow: auto;}#sk-container-id-1 input.sk-toggleable__control:checked~label.sk-toggleable__label-arrow:before {content: \"▾\";}#sk-container-id-1 div.sk-estimator input.sk-toggleable__control:checked~label.sk-toggleable__label {background-color: #d4ebff;}#sk-container-id-1 div.sk-label input.sk-toggleable__control:checked~label.sk-toggleable__label {background-color: #d4ebff;}#sk-container-id-1 input.sk-hidden--visually {border: 0;clip: rect(1px 1px 1px 1px);clip: rect(1px, 1px, 1px, 1px);height: 1px;margin: -1px;overflow: hidden;padding: 0;position: absolute;width: 1px;}#sk-container-id-1 div.sk-estimator {font-family: monospace;background-color: #f0f8ff;border: 1px dotted black;border-radius: 0.25em;box-sizing: border-box;margin-bottom: 0.5em;}#sk-container-id-1 div.sk-estimator:hover {background-color: #d4ebff;}#sk-container-id-1 div.sk-parallel-item::after {content: \"\";width: 100%;border-bottom: 1px solid gray;flex-grow: 1;}#sk-container-id-1 div.sk-label:hover label.sk-toggleable__label {background-color: #d4ebff;}#sk-container-id-1 div.sk-serial::before {content: \"\";position: absolute;border-left: 1px solid gray;box-sizing: border-box;top: 0;bottom: 0;left: 50%;z-index: 0;}#sk-container-id-1 div.sk-serial {display: flex;flex-direction: column;align-items: center;background-color: white;padding-right: 0.2em;padding-left: 0.2em;position: relative;}#sk-container-id-1 div.sk-item {position: relative;z-index: 1;}#sk-container-id-1 div.sk-parallel {display: flex;align-items: stretch;justify-content: center;background-color: white;position: relative;}#sk-container-id-1 div.sk-item::before, #sk-container-id-1 div.sk-parallel-item::before {content: \"\";position: absolute;border-left: 1px solid gray;box-sizing: border-box;top: 0;bottom: 0;left: 50%;z-index: -1;}#sk-container-id-1 div.sk-parallel-item {display: flex;flex-direction: column;z-index: 1;position: relative;background-color: white;}#sk-container-id-1 div.sk-parallel-item:first-child::after {align-self: flex-end;width: 50%;}#sk-container-id-1 div.sk-parallel-item:last-child::after {align-self: flex-start;width: 50%;}#sk-container-id-1 div.sk-parallel-item:only-child::after {width: 0;}#sk-container-id-1 div.sk-dashed-wrapped {border: 1px dashed gray;margin: 0 0.4em 0.5em 0.4em;box-sizing: border-box;padding-bottom: 0.4em;background-color: white;}#sk-container-id-1 div.sk-label label {font-family: monospace;font-weight: bold;display: inline-block;line-height: 1.2em;}#sk-container-id-1 div.sk-label-container {text-align: center;}#sk-container-id-1 div.sk-container {/* jupyter's `normalize.less` sets `[hidden] { display: none; }` but bootstrap.min.css set `[hidden] { display: none !important; }` so we also need the `!important` here to be able to override the default hidden behavior on the sphinx rendered scikit-learn.org. See: https://github.com/scikit-learn/scikit-learn/issues/21755 */display: inline-block !important;position: relative;}#sk-container-id-1 div.sk-text-repr-fallback {display: none;}</style><div id=\"sk-container-id-1\" class=\"sk-top-container\"><div class=\"sk-text-repr-fallback\"><pre>GridSearchCV(cv=5, estimator=RandomForestRegressor(),\n",
       "             param_grid={&#x27;max_depth&#x27;: [80, 90, 100], &#x27;max_features&#x27;: [2, 3],\n",
       "                         &#x27;min_samples_leaf&#x27;: [3, 4, 5],\n",
       "                         &#x27;min_samples_split&#x27;: [8, 10, 12],\n",
       "                         &#x27;n_estimators&#x27;: [30, 50, 100, 200]})</pre><b>In a Jupyter environment, please rerun this cell to show the HTML representation or trust the notebook. <br />On GitHub, the HTML representation is unable to render, please try loading this page with nbviewer.org.</b></div><div class=\"sk-container\" hidden><div class=\"sk-item sk-dashed-wrapped\"><div class=\"sk-label-container\"><div class=\"sk-label sk-toggleable\"><input class=\"sk-toggleable__control sk-hidden--visually\" id=\"sk-estimator-id-1\" type=\"checkbox\" ><label for=\"sk-estimator-id-1\" class=\"sk-toggleable__label sk-toggleable__label-arrow\">GridSearchCV</label><div class=\"sk-toggleable__content\"><pre>GridSearchCV(cv=5, estimator=RandomForestRegressor(),\n",
       "             param_grid={&#x27;max_depth&#x27;: [80, 90, 100], &#x27;max_features&#x27;: [2, 3],\n",
       "                         &#x27;min_samples_leaf&#x27;: [3, 4, 5],\n",
       "                         &#x27;min_samples_split&#x27;: [8, 10, 12],\n",
       "                         &#x27;n_estimators&#x27;: [30, 50, 100, 200]})</pre></div></div></div><div class=\"sk-parallel\"><div class=\"sk-parallel-item\"><div class=\"sk-item\"><div class=\"sk-label-container\"><div class=\"sk-label sk-toggleable\"><input class=\"sk-toggleable__control sk-hidden--visually\" id=\"sk-estimator-id-2\" type=\"checkbox\" ><label for=\"sk-estimator-id-2\" class=\"sk-toggleable__label sk-toggleable__label-arrow\">estimator: RandomForestRegressor</label><div class=\"sk-toggleable__content\"><pre>RandomForestRegressor()</pre></div></div></div><div class=\"sk-serial\"><div class=\"sk-item\"><div class=\"sk-estimator sk-toggleable\"><input class=\"sk-toggleable__control sk-hidden--visually\" id=\"sk-estimator-id-3\" type=\"checkbox\" ><label for=\"sk-estimator-id-3\" class=\"sk-toggleable__label sk-toggleable__label-arrow\">RandomForestRegressor</label><div class=\"sk-toggleable__content\"><pre>RandomForestRegressor()</pre></div></div></div></div></div></div></div></div></div></div>"
      ],
      "text/plain": [
       "GridSearchCV(cv=5, estimator=RandomForestRegressor(),\n",
       "             param_grid={'max_depth': [80, 90, 100], 'max_features': [2, 3],\n",
       "                         'min_samples_leaf': [3, 4, 5],\n",
       "                         'min_samples_split': [8, 10, 12],\n",
       "                         'n_estimators': [30, 50, 100, 200]})"
      ]
     },
     "execution_count": 99,
     "metadata": {},
     "output_type": "execute_result"
    }
   ],
   "source": [
    "%time\n",
    "grid_search.fit(x_train,y_train)"
   ]
  },
  {
   "cell_type": "code",
   "execution_count": 100,
   "id": "55723b06",
   "metadata": {
    "execution": {
     "iopub.execute_input": "2024-04-09T07:45:33.312100Z",
     "iopub.status.busy": "2024-04-09T07:45:33.311634Z",
     "iopub.status.idle": "2024-04-09T07:45:33.319338Z",
     "shell.execute_reply": "2024-04-09T07:45:33.318110Z"
    },
    "papermill": {
     "duration": 0.056472,
     "end_time": "2024-04-09T07:45:33.321681",
     "exception": false,
     "start_time": "2024-04-09T07:45:33.265209",
     "status": "completed"
    },
    "tags": []
   },
   "outputs": [
    {
     "data": {
      "text/plain": [
       "{'max_depth': 90,\n",
       " 'max_features': 3,\n",
       " 'min_samples_leaf': 3,\n",
       " 'min_samples_split': 8,\n",
       " 'n_estimators': 200}"
      ]
     },
     "execution_count": 100,
     "metadata": {},
     "output_type": "execute_result"
    }
   ],
   "source": [
    "grid_search.best_params_"
   ]
  },
  {
   "cell_type": "code",
   "execution_count": 101,
   "id": "e698e0ca",
   "metadata": {
    "execution": {
     "iopub.execute_input": "2024-04-09T07:45:33.414162Z",
     "iopub.status.busy": "2024-04-09T07:45:33.413696Z",
     "iopub.status.idle": "2024-04-09T07:45:33.421690Z",
     "shell.execute_reply": "2024-04-09T07:45:33.420432Z"
    },
    "papermill": {
     "duration": 0.057023,
     "end_time": "2024-04-09T07:45:33.424184",
     "exception": false,
     "start_time": "2024-04-09T07:45:33.367161",
     "status": "completed"
    },
    "tags": []
   },
   "outputs": [
    {
     "data": {
      "text/plain": [
       "0.860166168572758"
      ]
     },
     "execution_count": 101,
     "metadata": {},
     "output_type": "execute_result"
    }
   ],
   "source": [
    "rf_score=grid_search.best_score_\n",
    "rf_score"
   ]
  },
  {
   "cell_type": "code",
   "execution_count": 102,
   "id": "0a318b00",
   "metadata": {
    "execution": {
     "iopub.execute_input": "2024-04-09T07:45:33.516590Z",
     "iopub.status.busy": "2024-04-09T07:45:33.516210Z",
     "iopub.status.idle": "2024-04-09T07:45:33.542822Z",
     "shell.execute_reply": "2024-04-09T07:45:33.541261Z"
    },
    "papermill": {
     "duration": 0.075991,
     "end_time": "2024-04-09T07:45:33.545983",
     "exception": false,
     "start_time": "2024-04-09T07:45:33.469992",
     "status": "completed"
    },
    "tags": []
   },
   "outputs": [
    {
     "name": "stdout",
     "output_type": "stream",
     "text": [
      "RMSE :  0.42956612279689976\n",
      "R2Score :  0.8556684141320818\n"
     ]
    }
   ],
   "source": [
    "p=grid_search.predict(x_test)\n",
    "print(\"RMSE : \",np.sqrt(mean_absolute_error(y_test,p)))\n",
    "print(\"R2Score : \",r2_score(y_test,p))"
   ]
  },
  {
   "cell_type": "code",
   "execution_count": 103,
   "id": "f4ec245b",
   "metadata": {
    "execution": {
     "iopub.execute_input": "2024-04-09T07:45:33.640629Z",
     "iopub.status.busy": "2024-04-09T07:45:33.640234Z",
     "iopub.status.idle": "2024-04-09T07:45:33.647236Z",
     "shell.execute_reply": "2024-04-09T07:45:33.645583Z"
    },
    "papermill": {
     "duration": 0.056984,
     "end_time": "2024-04-09T07:45:33.650099",
     "exception": false,
     "start_time": "2024-04-09T07:45:33.593115",
     "status": "completed"
    },
    "tags": []
   },
   "outputs": [],
   "source": [
    "from sklearn.model_selection import GridSearchCV\n",
    "\n",
    "xgb=XGBRegressor()\n",
    "param_grid={\n",
    "    'learning_rate':[0.1,0.01,0.001],\n",
    "    'max_depth':[3,5,7],\n",
    "    'n_estimators':[100,500,10000]\n",
    "}\n",
    "\n",
    "grid_search=GridSearchCV(estimator=xgb,param_grid=param_grid,cv=5)"
   ]
  },
  {
   "cell_type": "code",
   "execution_count": 104,
   "id": "71df0e4c",
   "metadata": {
    "execution": {
     "iopub.execute_input": "2024-04-09T07:45:33.745936Z",
     "iopub.status.busy": "2024-04-09T07:45:33.745462Z",
     "iopub.status.idle": "2024-04-09T07:52:30.690855Z",
     "shell.execute_reply": "2024-04-09T07:52:30.689310Z"
    },
    "papermill": {
     "duration": 417.042736,
     "end_time": "2024-04-09T07:52:30.739099",
     "exception": false,
     "start_time": "2024-04-09T07:45:33.696363",
     "status": "completed"
    },
    "tags": []
   },
   "outputs": [
    {
     "name": "stdout",
     "output_type": "stream",
     "text": [
      "CPU times: user 5 µs, sys: 0 ns, total: 5 µs\n",
      "Wall time: 9.3 µs\n"
     ]
    },
    {
     "data": {
      "text/html": [
       "<style>#sk-container-id-2 {color: black;background-color: white;}#sk-container-id-2 pre{padding: 0;}#sk-container-id-2 div.sk-toggleable {background-color: white;}#sk-container-id-2 label.sk-toggleable__label {cursor: pointer;display: block;width: 100%;margin-bottom: 0;padding: 0.3em;box-sizing: border-box;text-align: center;}#sk-container-id-2 label.sk-toggleable__label-arrow:before {content: \"▸\";float: left;margin-right: 0.25em;color: #696969;}#sk-container-id-2 label.sk-toggleable__label-arrow:hover:before {color: black;}#sk-container-id-2 div.sk-estimator:hover label.sk-toggleable__label-arrow:before {color: black;}#sk-container-id-2 div.sk-toggleable__content {max-height: 0;max-width: 0;overflow: hidden;text-align: left;background-color: #f0f8ff;}#sk-container-id-2 div.sk-toggleable__content pre {margin: 0.2em;color: black;border-radius: 0.25em;background-color: #f0f8ff;}#sk-container-id-2 input.sk-toggleable__control:checked~div.sk-toggleable__content {max-height: 200px;max-width: 100%;overflow: auto;}#sk-container-id-2 input.sk-toggleable__control:checked~label.sk-toggleable__label-arrow:before {content: \"▾\";}#sk-container-id-2 div.sk-estimator input.sk-toggleable__control:checked~label.sk-toggleable__label {background-color: #d4ebff;}#sk-container-id-2 div.sk-label input.sk-toggleable__control:checked~label.sk-toggleable__label {background-color: #d4ebff;}#sk-container-id-2 input.sk-hidden--visually {border: 0;clip: rect(1px 1px 1px 1px);clip: rect(1px, 1px, 1px, 1px);height: 1px;margin: -1px;overflow: hidden;padding: 0;position: absolute;width: 1px;}#sk-container-id-2 div.sk-estimator {font-family: monospace;background-color: #f0f8ff;border: 1px dotted black;border-radius: 0.25em;box-sizing: border-box;margin-bottom: 0.5em;}#sk-container-id-2 div.sk-estimator:hover {background-color: #d4ebff;}#sk-container-id-2 div.sk-parallel-item::after {content: \"\";width: 100%;border-bottom: 1px solid gray;flex-grow: 1;}#sk-container-id-2 div.sk-label:hover label.sk-toggleable__label {background-color: #d4ebff;}#sk-container-id-2 div.sk-serial::before {content: \"\";position: absolute;border-left: 1px solid gray;box-sizing: border-box;top: 0;bottom: 0;left: 50%;z-index: 0;}#sk-container-id-2 div.sk-serial {display: flex;flex-direction: column;align-items: center;background-color: white;padding-right: 0.2em;padding-left: 0.2em;position: relative;}#sk-container-id-2 div.sk-item {position: relative;z-index: 1;}#sk-container-id-2 div.sk-parallel {display: flex;align-items: stretch;justify-content: center;background-color: white;position: relative;}#sk-container-id-2 div.sk-item::before, #sk-container-id-2 div.sk-parallel-item::before {content: \"\";position: absolute;border-left: 1px solid gray;box-sizing: border-box;top: 0;bottom: 0;left: 50%;z-index: -1;}#sk-container-id-2 div.sk-parallel-item {display: flex;flex-direction: column;z-index: 1;position: relative;background-color: white;}#sk-container-id-2 div.sk-parallel-item:first-child::after {align-self: flex-end;width: 50%;}#sk-container-id-2 div.sk-parallel-item:last-child::after {align-self: flex-start;width: 50%;}#sk-container-id-2 div.sk-parallel-item:only-child::after {width: 0;}#sk-container-id-2 div.sk-dashed-wrapped {border: 1px dashed gray;margin: 0 0.4em 0.5em 0.4em;box-sizing: border-box;padding-bottom: 0.4em;background-color: white;}#sk-container-id-2 div.sk-label label {font-family: monospace;font-weight: bold;display: inline-block;line-height: 1.2em;}#sk-container-id-2 div.sk-label-container {text-align: center;}#sk-container-id-2 div.sk-container {/* jupyter's `normalize.less` sets `[hidden] { display: none; }` but bootstrap.min.css set `[hidden] { display: none !important; }` so we also need the `!important` here to be able to override the default hidden behavior on the sphinx rendered scikit-learn.org. See: https://github.com/scikit-learn/scikit-learn/issues/21755 */display: inline-block !important;position: relative;}#sk-container-id-2 div.sk-text-repr-fallback {display: none;}</style><div id=\"sk-container-id-2\" class=\"sk-top-container\"><div class=\"sk-text-repr-fallback\"><pre>GridSearchCV(cv=5,\n",
       "             estimator=XGBRegressor(base_score=None, booster=None,\n",
       "                                    callbacks=None, colsample_bylevel=None,\n",
       "                                    colsample_bynode=None,\n",
       "                                    colsample_bytree=None,\n",
       "                                    early_stopping_rounds=None,\n",
       "                                    enable_categorical=False, eval_metric=None,\n",
       "                                    feature_types=None, gamma=None, gpu_id=None,\n",
       "                                    grow_policy=None, importance_type=None,\n",
       "                                    interaction_constraints=None,\n",
       "                                    learning_rate=None, m...=None,\n",
       "                                    max_cat_threshold=None,\n",
       "                                    max_cat_to_onehot=None, max_delta_step=None,\n",
       "                                    max_depth=None, max_leaves=None,\n",
       "                                    min_child_weight=None, missing=nan,\n",
       "                                    monotone_constraints=None, n_estimators=100,\n",
       "                                    n_jobs=None, num_parallel_tree=None,\n",
       "                                    predictor=None, random_state=None, ...),\n",
       "             param_grid={&#x27;learning_rate&#x27;: [0.1, 0.01, 0.001],\n",
       "                         &#x27;max_depth&#x27;: [3, 5, 7],\n",
       "                         &#x27;n_estimators&#x27;: [100, 500, 10000]})</pre><b>In a Jupyter environment, please rerun this cell to show the HTML representation or trust the notebook. <br />On GitHub, the HTML representation is unable to render, please try loading this page with nbviewer.org.</b></div><div class=\"sk-container\" hidden><div class=\"sk-item sk-dashed-wrapped\"><div class=\"sk-label-container\"><div class=\"sk-label sk-toggleable\"><input class=\"sk-toggleable__control sk-hidden--visually\" id=\"sk-estimator-id-4\" type=\"checkbox\" ><label for=\"sk-estimator-id-4\" class=\"sk-toggleable__label sk-toggleable__label-arrow\">GridSearchCV</label><div class=\"sk-toggleable__content\"><pre>GridSearchCV(cv=5,\n",
       "             estimator=XGBRegressor(base_score=None, booster=None,\n",
       "                                    callbacks=None, colsample_bylevel=None,\n",
       "                                    colsample_bynode=None,\n",
       "                                    colsample_bytree=None,\n",
       "                                    early_stopping_rounds=None,\n",
       "                                    enable_categorical=False, eval_metric=None,\n",
       "                                    feature_types=None, gamma=None, gpu_id=None,\n",
       "                                    grow_policy=None, importance_type=None,\n",
       "                                    interaction_constraints=None,\n",
       "                                    learning_rate=None, m...=None,\n",
       "                                    max_cat_threshold=None,\n",
       "                                    max_cat_to_onehot=None, max_delta_step=None,\n",
       "                                    max_depth=None, max_leaves=None,\n",
       "                                    min_child_weight=None, missing=nan,\n",
       "                                    monotone_constraints=None, n_estimators=100,\n",
       "                                    n_jobs=None, num_parallel_tree=None,\n",
       "                                    predictor=None, random_state=None, ...),\n",
       "             param_grid={&#x27;learning_rate&#x27;: [0.1, 0.01, 0.001],\n",
       "                         &#x27;max_depth&#x27;: [3, 5, 7],\n",
       "                         &#x27;n_estimators&#x27;: [100, 500, 10000]})</pre></div></div></div><div class=\"sk-parallel\"><div class=\"sk-parallel-item\"><div class=\"sk-item\"><div class=\"sk-label-container\"><div class=\"sk-label sk-toggleable\"><input class=\"sk-toggleable__control sk-hidden--visually\" id=\"sk-estimator-id-5\" type=\"checkbox\" ><label for=\"sk-estimator-id-5\" class=\"sk-toggleable__label sk-toggleable__label-arrow\">estimator: XGBRegressor</label><div class=\"sk-toggleable__content\"><pre>XGBRegressor(base_score=None, booster=None, callbacks=None,\n",
       "             colsample_bylevel=None, colsample_bynode=None,\n",
       "             colsample_bytree=None, early_stopping_rounds=None,\n",
       "             enable_categorical=False, eval_metric=None, feature_types=None,\n",
       "             gamma=None, gpu_id=None, grow_policy=None, importance_type=None,\n",
       "             interaction_constraints=None, learning_rate=None, max_bin=None,\n",
       "             max_cat_threshold=None, max_cat_to_onehot=None,\n",
       "             max_delta_step=None, max_depth=None, max_leaves=None,\n",
       "             min_child_weight=None, missing=nan, monotone_constraints=None,\n",
       "             n_estimators=100, n_jobs=None, num_parallel_tree=None,\n",
       "             predictor=None, random_state=None, ...)</pre></div></div></div><div class=\"sk-serial\"><div class=\"sk-item\"><div class=\"sk-estimator sk-toggleable\"><input class=\"sk-toggleable__control sk-hidden--visually\" id=\"sk-estimator-id-6\" type=\"checkbox\" ><label for=\"sk-estimator-id-6\" class=\"sk-toggleable__label sk-toggleable__label-arrow\">XGBRegressor</label><div class=\"sk-toggleable__content\"><pre>XGBRegressor(base_score=None, booster=None, callbacks=None,\n",
       "             colsample_bylevel=None, colsample_bynode=None,\n",
       "             colsample_bytree=None, early_stopping_rounds=None,\n",
       "             enable_categorical=False, eval_metric=None, feature_types=None,\n",
       "             gamma=None, gpu_id=None, grow_policy=None, importance_type=None,\n",
       "             interaction_constraints=None, learning_rate=None, max_bin=None,\n",
       "             max_cat_threshold=None, max_cat_to_onehot=None,\n",
       "             max_delta_step=None, max_depth=None, max_leaves=None,\n",
       "             min_child_weight=None, missing=nan, monotone_constraints=None,\n",
       "             n_estimators=100, n_jobs=None, num_parallel_tree=None,\n",
       "             predictor=None, random_state=None, ...)</pre></div></div></div></div></div></div></div></div></div></div>"
      ],
      "text/plain": [
       "GridSearchCV(cv=5,\n",
       "             estimator=XGBRegressor(base_score=None, booster=None,\n",
       "                                    callbacks=None, colsample_bylevel=None,\n",
       "                                    colsample_bynode=None,\n",
       "                                    colsample_bytree=None,\n",
       "                                    early_stopping_rounds=None,\n",
       "                                    enable_categorical=False, eval_metric=None,\n",
       "                                    feature_types=None, gamma=None, gpu_id=None,\n",
       "                                    grow_policy=None, importance_type=None,\n",
       "                                    interaction_constraints=None,\n",
       "                                    learning_rate=None, m...=None,\n",
       "                                    max_cat_threshold=None,\n",
       "                                    max_cat_to_onehot=None, max_delta_step=None,\n",
       "                                    max_depth=None, max_leaves=None,\n",
       "                                    min_child_weight=None, missing=nan,\n",
       "                                    monotone_constraints=None, n_estimators=100,\n",
       "                                    n_jobs=None, num_parallel_tree=None,\n",
       "                                    predictor=None, random_state=None, ...),\n",
       "             param_grid={'learning_rate': [0.1, 0.01, 0.001],\n",
       "                         'max_depth': [3, 5, 7],\n",
       "                         'n_estimators': [100, 500, 10000]})"
      ]
     },
     "execution_count": 104,
     "metadata": {},
     "output_type": "execute_result"
    }
   ],
   "source": [
    "%time\n",
    "grid_search.fit(x_train,y_train)"
   ]
  },
  {
   "cell_type": "code",
   "execution_count": 105,
   "id": "9602d49e",
   "metadata": {
    "execution": {
     "iopub.execute_input": "2024-04-09T07:52:30.835676Z",
     "iopub.status.busy": "2024-04-09T07:52:30.835253Z",
     "iopub.status.idle": "2024-04-09T07:52:30.842468Z",
     "shell.execute_reply": "2024-04-09T07:52:30.841641Z"
    },
    "papermill": {
     "duration": 0.059871,
     "end_time": "2024-04-09T07:52:30.844684",
     "exception": false,
     "start_time": "2024-04-09T07:52:30.784813",
     "status": "completed"
    },
    "tags": []
   },
   "outputs": [
    {
     "data": {
      "text/plain": [
       "{'learning_rate': 0.1, 'max_depth': 7, 'n_estimators': 500}"
      ]
     },
     "execution_count": 105,
     "metadata": {},
     "output_type": "execute_result"
    }
   ],
   "source": [
    "grid_search.best_params_"
   ]
  },
  {
   "cell_type": "code",
   "execution_count": 106,
   "id": "1008056f",
   "metadata": {
    "execution": {
     "iopub.execute_input": "2024-04-09T07:52:30.940085Z",
     "iopub.status.busy": "2024-04-09T07:52:30.939244Z",
     "iopub.status.idle": "2024-04-09T07:52:30.945839Z",
     "shell.execute_reply": "2024-04-09T07:52:30.945046Z"
    },
    "papermill": {
     "duration": 0.055957,
     "end_time": "2024-04-09T07:52:30.948029",
     "exception": false,
     "start_time": "2024-04-09T07:52:30.892072",
     "status": "completed"
    },
    "tags": []
   },
   "outputs": [
    {
     "data": {
      "text/plain": [
       "0.8995482537504612"
      ]
     },
     "execution_count": 106,
     "metadata": {},
     "output_type": "execute_result"
    }
   ],
   "source": [
    "xgb_score=grid_search.best_score_\n",
    "xgb_score"
   ]
  },
  {
   "cell_type": "code",
   "execution_count": 107,
   "id": "dd13a736",
   "metadata": {
    "execution": {
     "iopub.execute_input": "2024-04-09T07:52:31.042087Z",
     "iopub.status.busy": "2024-04-09T07:52:31.040860Z",
     "iopub.status.idle": "2024-04-09T07:52:31.054409Z",
     "shell.execute_reply": "2024-04-09T07:52:31.053549Z"
    },
    "papermill": {
     "duration": 0.066013,
     "end_time": "2024-04-09T07:52:31.059664",
     "exception": false,
     "start_time": "2024-04-09T07:52:30.993651",
     "status": "completed"
    },
    "tags": []
   },
   "outputs": [
    {
     "name": "stdout",
     "output_type": "stream",
     "text": [
      "RMSE: 0.4008076819960088\n",
      "R2Score: 0.8699644523092152\n"
     ]
    }
   ],
   "source": [
    "p=grid_search.predict(x_test)\n",
    "print(\"RMSE:\",np.sqrt(mean_absolute_error(y_test,p)))\n",
    "print(\"R2Score:\",r2_score(y_test,p))"
   ]
  },
  {
   "cell_type": "code",
   "execution_count": 108,
   "id": "e12a5839",
   "metadata": {
    "execution": {
     "iopub.execute_input": "2024-04-09T07:52:31.157595Z",
     "iopub.status.busy": "2024-04-09T07:52:31.157175Z",
     "iopub.status.idle": "2024-04-09T07:52:31.333510Z",
     "shell.execute_reply": "2024-04-09T07:52:31.332544Z"
    },
    "papermill": {
     "duration": 0.228215,
     "end_time": "2024-04-09T07:52:31.336303",
     "exception": false,
     "start_time": "2024-04-09T07:52:31.108088",
     "status": "completed"
    },
    "tags": []
   },
   "outputs": [
    {
     "name": "stdout",
     "output_type": "stream",
     "text": [
      "[07:52:31] WARNING: ../src/learner.cc:767: \n",
      "Parameters: { \"nestimators\" } are not used.\n",
      "\n",
      "RMSE: 0.4056306932812044\n",
      "R2Score: 0.8760118136219712\n"
     ]
    }
   ],
   "source": [
    "xgb_model=XGBRegressor(learning_rate=0.1,max_depth=7,nestimators=1000)\n",
    "\n",
    "xgb_model.fit(x_train,y_train)\n",
    "y_pred=xgb_model.predict(x_test)\n",
    "print(\"RMSE:\",np.sqrt(mean_absolute_error(y_test, y_pred)))\n",
    "print(\"R2Score:\",r2_score(y_test, y_pred))\n"
   ]
  },
  {
   "cell_type": "code",
   "execution_count": 109,
   "id": "2556fad8",
   "metadata": {
    "execution": {
     "iopub.execute_input": "2024-04-09T07:52:31.433266Z",
     "iopub.status.busy": "2024-04-09T07:52:31.432849Z",
     "iopub.status.idle": "2024-04-09T07:52:31.451718Z",
     "shell.execute_reply": "2024-04-09T07:52:31.450701Z"
    },
    "papermill": {
     "duration": 0.069584,
     "end_time": "2024-04-09T07:52:31.454773",
     "exception": false,
     "start_time": "2024-04-09T07:52:31.385189",
     "status": "completed"
    },
    "tags": []
   },
   "outputs": [
    {
     "data": {
      "text/html": [
       "<a href='XGBBoost_Sanketh.pkl' target='_blank'>XGBBoost_Sanketh.pkl</a><br>"
      ],
      "text/plain": [
       "/kaggle/working/XGBBoost_Sanketh.pkl"
      ]
     },
     "execution_count": 109,
     "metadata": {},
     "output_type": "execute_result"
    }
   ],
   "source": [
    "import pickle as pk\n",
    "file=open('XGBBoost_Sanketh.pkl','wb')\n",
    "pk.dump(xgb_model,file)\n",
    "from IPython.display import FileLink\n",
    "FileLink('XGBBoost_Sanketh.pkl')"
   ]
  },
  {
   "cell_type": "code",
   "execution_count": null,
   "id": "d6cc2c1a",
   "metadata": {
    "papermill": {
     "duration": 0.046149,
     "end_time": "2024-04-09T07:52:31.548486",
     "exception": false,
     "start_time": "2024-04-09T07:52:31.502337",
     "status": "completed"
    },
    "tags": []
   },
   "outputs": [],
   "source": []
  }
 ],
 "metadata": {
  "kaggle": {
   "accelerator": "none",
   "dataSources": [
    {
     "datasetId": 3057690,
     "sourceId": 5254982,
     "sourceType": "datasetVersion"
    }
   ],
   "dockerImageVersionId": 30558,
   "isGpuEnabled": false,
   "isInternetEnabled": true,
   "language": "python",
   "sourceType": "notebook"
  },
  "kernelspec": {
   "display_name": "Python 3",
   "language": "python",
   "name": "python3"
  },
  "language_info": {
   "codemirror_mode": {
    "name": "ipython",
    "version": 3
   },
   "file_extension": ".py",
   "mimetype": "text/x-python",
   "name": "python",
   "nbconvert_exporter": "python",
   "pygments_lexer": "ipython3",
   "version": "3.10.12"
  },
  "papermill": {
   "default_parameters": {},
   "duration": 677.132742,
   "end_time": "2024-04-09T07:52:32.320130",
   "environment_variables": {},
   "exception": null,
   "input_path": "__notebook__.ipynb",
   "output_path": "__notebook__.ipynb",
   "parameters": {},
   "start_time": "2024-04-09T07:41:15.187388",
   "version": "2.4.0"
  }
 },
 "nbformat": 4,
 "nbformat_minor": 5
}
